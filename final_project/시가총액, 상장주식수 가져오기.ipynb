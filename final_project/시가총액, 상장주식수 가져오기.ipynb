{
 "cells": [
  {
   "cell_type": "code",
   "execution_count": 1,
   "id": "ae0e9457",
   "metadata": {
    "ExecuteTime": {
     "end_time": "2022-06-07T16:21:44.249330Z",
     "start_time": "2022-06-07T16:21:42.615174Z"
    }
   },
   "outputs": [],
   "source": [
    "import requests # HTTP 호출 패키지\n",
    "import json # json 형식의 파일 관련 패키지\n",
    "import pandas as pd # 데이터 분석 및 연산 패키지"
   ]
  },
  {
   "cell_type": "code",
   "execution_count": 71,
   "id": "f6ad077d",
   "metadata": {
    "ExecuteTime": {
     "end_time": "2022-06-07T19:05:34.736796Z",
     "start_time": "2022-06-07T19:05:34.722258Z"
    }
   },
   "outputs": [],
   "source": [
    "# headers 선언\n",
    "headers = {\n",
    "    'User-Agent': 'Mozilla/5.0 (Windows NT 10.0; Win64; x64) AppleWebKit/537.36 (KHTML, like Gecko) Chrome/102.0.0.0 Safari/537.36',\n",
    "    'X-Requested-With': 'XMLHttpRequest'\n",
    "}"
   ]
  },
  {
   "cell_type": "code",
   "execution_count": 80,
   "id": "39755f7b",
   "metadata": {
    "ExecuteTime": {
     "end_time": "2022-06-07T19:07:10.563836Z",
     "start_time": "2022-06-07T19:07:10.542030Z"
    }
   },
   "outputs": [],
   "source": [
    "p_data = {\n",
    "    'bld': 'dbms/MDC/STAT/standard/MDCSTAT01701', # 화면번호\n",
    "    'tboxisuCd_finder_stkisu0_0': '027740/마니커',\n",
    "    'isuCd': 'KR7035720002',\n",
    "    'isuCd2': 'KR7005930003',\n",
    "    'codeNmisuCd_finder_stkisu0_0': '마니커',\n",
    "    'param1isuCd_finder_stkisu0_0': 'ALL',\n",
    "    'strtDd': '20220515', \n",
    "    'endDd': '20220607',\n",
    "    'share' : '1',\n",
    "    'money': '1', # 금액 단위\n",
    "    'csvxls_isNo': 'false' # (false)\n",
    "}"
   ]
  },
  {
   "cell_type": "code",
   "execution_count": 76,
   "id": "95cb988d",
   "metadata": {
    "ExecuteTime": {
     "end_time": "2022-06-07T19:06:59.980863Z",
     "start_time": "2022-06-07T19:06:59.965884Z"
    }
   },
   "outputs": [],
   "source": [
    "url = 'http://data.krx.co.kr/comm/bldAttendant/getJsonData.cmd'"
   ]
  },
  {
   "cell_type": "code",
   "execution_count": 81,
   "id": "96568286",
   "metadata": {
    "ExecuteTime": {
     "end_time": "2022-06-07T19:07:13.492097Z",
     "start_time": "2022-06-07T19:07:13.392883Z"
    }
   },
   "outputs": [],
   "source": [
    "res = requests.post(url, headers=headers, data=p_data)"
   ]
  },
  {
   "cell_type": "code",
   "execution_count": 82,
   "id": "ef6a5d88",
   "metadata": {
    "ExecuteTime": {
     "end_time": "2022-06-07T19:07:14.742491Z",
     "start_time": "2022-06-07T19:07:14.737344Z"
    }
   },
   "outputs": [],
   "source": [
    "html_json = json.loads(res.content)"
   ]
  },
  {
   "cell_type": "code",
   "execution_count": 83,
   "id": "93366122",
   "metadata": {
    "ExecuteTime": {
     "end_time": "2022-06-07T19:07:16.360988Z",
     "start_time": "2022-06-07T19:07:16.344014Z"
    }
   },
   "outputs": [
    {
     "data": {
      "text/plain": [
       "[{'TRD_DD': '2022/06/07',\n",
       "  'TDD_CLSPRC': '81,900',\n",
       "  'FLUC_TP_CD': '2',\n",
       "  'CMPPREVDD_PRC': '-3,800',\n",
       "  'FLUC_RT': '-4.43',\n",
       "  'TDD_OPNPRC': '84,500',\n",
       "  'TDD_HGPRC': '84,800',\n",
       "  'TDD_LWPRC': '81,600',\n",
       "  'ACC_TRDVOL': '2,373,935',\n",
       "  'ACC_TRDVAL': '196,169,225,300',\n",
       "  'MKTCAP': '36,370,818,829,800',\n",
       "  'LIST_SHRS': '444,088,142'},\n",
       " {'TRD_DD': '2022/06/03',\n",
       "  'TDD_CLSPRC': '85,700',\n",
       "  'FLUC_TP_CD': '1',\n",
       "  'CMPPREVDD_PRC': '2,000',\n",
       "  'FLUC_RT': '2.39',\n",
       "  'TDD_OPNPRC': '84,800',\n",
       "  'TDD_HGPRC': '87,400',\n",
       "  'TDD_LWPRC': '84,700',\n",
       "  'ACC_TRDVOL': '2,371,620',\n",
       "  'ACC_TRDVAL': '204,453,657,500',\n",
       "  'MKTCAP': '38,058,353,769,400',\n",
       "  'LIST_SHRS': '444,088,142'},\n",
       " {'TRD_DD': '2022/06/02',\n",
       "  'TDD_CLSPRC': '83,700',\n",
       "  'FLUC_TP_CD': '2',\n",
       "  'CMPPREVDD_PRC': '-1,300',\n",
       "  'FLUC_RT': '-1.53',\n",
       "  'TDD_OPNPRC': '84,000',\n",
       "  'TDD_HGPRC': '84,200',\n",
       "  'TDD_LWPRC': '82,900',\n",
       "  'ACC_TRDVOL': '1,147,185',\n",
       "  'ACC_TRDVAL': '95,753,857,100',\n",
       "  'MKTCAP': '37,170,177,485,400',\n",
       "  'LIST_SHRS': '444,088,142'},\n",
       " {'TRD_DD': '2022/05/31',\n",
       "  'TDD_CLSPRC': '85,000',\n",
       "  'FLUC_TP_CD': '1',\n",
       "  'CMPPREVDD_PRC': '1,100',\n",
       "  'FLUC_RT': '1.31',\n",
       "  'TDD_OPNPRC': '84,100',\n",
       "  'TDD_HGPRC': '85,000',\n",
       "  'TDD_LWPRC': '82,900',\n",
       "  'ACC_TRDVOL': '2,170,810',\n",
       "  'ACC_TRDVAL': '182,759,481,800',\n",
       "  'MKTCAP': '37,747,492,070,000',\n",
       "  'LIST_SHRS': '444,088,142'},\n",
       " {'TRD_DD': '2022/05/30',\n",
       "  'TDD_CLSPRC': '83,900',\n",
       "  'FLUC_TP_CD': '1',\n",
       "  'CMPPREVDD_PRC': '2,200',\n",
       "  'FLUC_RT': '2.69',\n",
       "  'TDD_OPNPRC': '82,800',\n",
       "  'TDD_HGPRC': '84,000',\n",
       "  'TDD_LWPRC': '82,600',\n",
       "  'ACC_TRDVOL': '2,091,429',\n",
       "  'ACC_TRDVAL': '174,415,059,300',\n",
       "  'MKTCAP': '37,258,995,113,800',\n",
       "  'LIST_SHRS': '444,088,142'},\n",
       " {'TRD_DD': '2022/05/27',\n",
       "  'TDD_CLSPRC': '81,700',\n",
       "  'FLUC_TP_CD': '1',\n",
       "  'CMPPREVDD_PRC': '200',\n",
       "  'FLUC_RT': '0.25',\n",
       "  'TDD_OPNPRC': '82,400',\n",
       "  'TDD_HGPRC': '83,000',\n",
       "  'TDD_LWPRC': '81,500',\n",
       "  'ACC_TRDVOL': '1,038,755',\n",
       "  'ACC_TRDVAL': '85,228,313,000',\n",
       "  'MKTCAP': '36,282,001,201,400',\n",
       "  'LIST_SHRS': '444,088,142'},\n",
       " {'TRD_DD': '2022/05/26',\n",
       "  'TDD_CLSPRC': '81,500',\n",
       "  'FLUC_TP_CD': '2',\n",
       "  'CMPPREVDD_PRC': '-300',\n",
       "  'FLUC_RT': '-0.37',\n",
       "  'TDD_OPNPRC': '81,900',\n",
       "  'TDD_HGPRC': '83,300',\n",
       "  'TDD_LWPRC': '81,000',\n",
       "  'ACC_TRDVOL': '1,338,305',\n",
       "  'ACC_TRDVAL': '109,949,824,200',\n",
       "  'MKTCAP': '36,193,183,573,000',\n",
       "  'LIST_SHRS': '444,088,142'},\n",
       " {'TRD_DD': '2022/05/25',\n",
       "  'TDD_CLSPRC': '81,800',\n",
       "  'FLUC_TP_CD': '1',\n",
       "  'CMPPREVDD_PRC': '1,200',\n",
       "  'FLUC_RT': '1.49',\n",
       "  'TDD_OPNPRC': '81,000',\n",
       "  'TDD_HGPRC': '82,000',\n",
       "  'TDD_LWPRC': '80,300',\n",
       "  'ACC_TRDVOL': '1,365,261',\n",
       "  'ACC_TRDVAL': '111,054,803,200',\n",
       "  'MKTCAP': '36,326,410,015,600',\n",
       "  'LIST_SHRS': '444,088,142'},\n",
       " {'TRD_DD': '2022/05/24',\n",
       "  'TDD_CLSPRC': '80,600',\n",
       "  'FLUC_TP_CD': '2',\n",
       "  'CMPPREVDD_PRC': '-2,300',\n",
       "  'FLUC_RT': '-2.77',\n",
       "  'TDD_OPNPRC': '82,500',\n",
       "  'TDD_HGPRC': '82,600',\n",
       "  'TDD_LWPRC': '80,600',\n",
       "  'ACC_TRDVOL': '1,154,150',\n",
       "  'ACC_TRDVAL': '93,852,466,000',\n",
       "  'MKTCAP': '35,793,504,245,200',\n",
       "  'LIST_SHRS': '444,088,142'},\n",
       " {'TRD_DD': '2022/05/23',\n",
       "  'TDD_CLSPRC': '82,900',\n",
       "  'FLUC_TP_CD': '2',\n",
       "  'CMPPREVDD_PRC': '-100',\n",
       "  'FLUC_RT': '-0.12',\n",
       "  'TDD_OPNPRC': '82,700',\n",
       "  'TDD_HGPRC': '83,500',\n",
       "  'TDD_LWPRC': '82,400',\n",
       "  'ACC_TRDVOL': '933,750',\n",
       "  'ACC_TRDVAL': '77,335,209,300',\n",
       "  'MKTCAP': '36,814,906,971,800',\n",
       "  'LIST_SHRS': '444,088,142'},\n",
       " {'TRD_DD': '2022/05/20',\n",
       "  'TDD_CLSPRC': '83,000',\n",
       "  'FLUC_TP_CD': '1',\n",
       "  'CMPPREVDD_PRC': '2,600',\n",
       "  'FLUC_RT': '3.23',\n",
       "  'TDD_OPNPRC': '80,800',\n",
       "  'TDD_HGPRC': '83,300',\n",
       "  'TDD_LWPRC': '80,400',\n",
       "  'ACC_TRDVOL': '1,561,541',\n",
       "  'ACC_TRDVAL': '128,500,573,500',\n",
       "  'MKTCAP': '36,859,315,786,000',\n",
       "  'LIST_SHRS': '444,088,142'},\n",
       " {'TRD_DD': '2022/05/19',\n",
       "  'TDD_CLSPRC': '80,400',\n",
       "  'FLUC_TP_CD': '2',\n",
       "  'CMPPREVDD_PRC': '-2,200',\n",
       "  'FLUC_RT': '-2.66',\n",
       "  'TDD_OPNPRC': '80,500',\n",
       "  'TDD_HGPRC': '81,000',\n",
       "  'TDD_LWPRC': '80,000',\n",
       "  'ACC_TRDVOL': '1,519,533',\n",
       "  'ACC_TRDVAL': '122,195,296,000',\n",
       "  'MKTCAP': '35,704,686,616,800',\n",
       "  'LIST_SHRS': '444,088,142'},\n",
       " {'TRD_DD': '2022/05/18',\n",
       "  'TDD_CLSPRC': '82,600',\n",
       "  'FLUC_TP_CD': '2',\n",
       "  'CMPPREVDD_PRC': '-600',\n",
       "  'FLUC_RT': '-0.72',\n",
       "  'TDD_OPNPRC': '83,700',\n",
       "  'TDD_HGPRC': '84,000',\n",
       "  'TDD_LWPRC': '82,500',\n",
       "  'ACC_TRDVOL': '1,208,755',\n",
       "  'ACC_TRDVAL': '100,418,310,500',\n",
       "  'MKTCAP': '36,681,680,529,200',\n",
       "  'LIST_SHRS': '444,088,142'},\n",
       " {'TRD_DD': '2022/05/17',\n",
       "  'TDD_CLSPRC': '83,200',\n",
       "  'FLUC_TP_CD': '1',\n",
       "  'CMPPREVDD_PRC': '900',\n",
       "  'FLUC_RT': '1.09',\n",
       "  'TDD_OPNPRC': '82,300',\n",
       "  'TDD_HGPRC': '83,400',\n",
       "  'TDD_LWPRC': '82,100',\n",
       "  'ACC_TRDVOL': '1,218,935',\n",
       "  'ACC_TRDVAL': '101,121,742,200',\n",
       "  'MKTCAP': '36,948,133,414,400',\n",
       "  'LIST_SHRS': '444,088,142'},\n",
       " {'TRD_DD': '2022/05/16',\n",
       "  'TDD_CLSPRC': '82,300',\n",
       "  'FLUC_TP_CD': '1',\n",
       "  'CMPPREVDD_PRC': '500',\n",
       "  'FLUC_RT': '0.61',\n",
       "  'TDD_OPNPRC': '83,300',\n",
       "  'TDD_HGPRC': '84,300',\n",
       "  'TDD_LWPRC': '82,100',\n",
       "  'ACC_TRDVOL': '1,598,561',\n",
       "  'ACC_TRDVAL': '132,959,517,500',\n",
       "  'MKTCAP': '36,548,454,086,600',\n",
       "  'LIST_SHRS': '444,088,142'}]"
      ]
     },
     "execution_count": 83,
     "metadata": {},
     "output_type": "execute_result"
    }
   ],
   "source": [
    "html_json = html_json['output']\n",
    "html_json"
   ]
  },
  {
   "cell_type": "code",
   "execution_count": 55,
   "id": "5850808b",
   "metadata": {
    "ExecuteTime": {
     "end_time": "2022-06-07T18:22:44.760794Z",
     "start_time": "2022-06-07T18:22:44.744593Z"
    }
   },
   "outputs": [
    {
     "ename": "TypeError",
     "evalue": "list indices must be integers or slices, not str",
     "output_type": "error",
     "traceback": [
      "\u001b[1;31m---------------------------------------------------------------------------\u001b[0m",
      "\u001b[1;31mTypeError\u001b[0m                                 Traceback (most recent call last)",
      "\u001b[1;32m<ipython-input-55-17b138b8619b>\u001b[0m in \u001b[0;36m<module>\u001b[1;34m\u001b[0m\n\u001b[0;32m      1\u001b[0m \u001b[1;31m# json 형태의 결과값을 DataFrame 형식으로 df에 할당\u001b[0m\u001b[1;33m\u001b[0m\u001b[1;33m\u001b[0m\u001b[1;33m\u001b[0m\u001b[0m\n\u001b[1;32m----> 2\u001b[1;33m \u001b[0mdf\u001b[0m \u001b[1;33m=\u001b[0m \u001b[0mpd\u001b[0m\u001b[1;33m.\u001b[0m\u001b[0mjson_normalize\u001b[0m\u001b[1;33m(\u001b[0m\u001b[0mhtml_json\u001b[0m\u001b[1;33m[\u001b[0m\u001b[1;34m'output'\u001b[0m\u001b[1;33m]\u001b[0m\u001b[1;33m)\u001b[0m\u001b[1;33m\u001b[0m\u001b[1;33m\u001b[0m\u001b[0m\n\u001b[0m\u001b[0;32m      3\u001b[0m \u001b[0mdf\u001b[0m\u001b[1;33m.\u001b[0m\u001b[0mhead\u001b[0m\u001b[1;33m(\u001b[0m\u001b[1;33m)\u001b[0m\u001b[1;33m\u001b[0m\u001b[1;33m\u001b[0m\u001b[0m\n",
      "\u001b[1;31mTypeError\u001b[0m: list indices must be integers or slices, not str"
     ]
    }
   ],
   "source": [
    "# json 형태의 결과값을 DataFrame 형식으로 df에 할당\n",
    "df = pd.json_normalize(html_json['output'])\n",
    "df.head()"
   ]
  },
  {
   "cell_type": "code",
   "execution_count": 56,
   "id": "1f381f23",
   "metadata": {
    "ExecuteTime": {
     "end_time": "2022-06-07T18:22:46.790220Z",
     "start_time": "2022-06-07T18:22:46.771528Z"
    }
   },
   "outputs": [],
   "source": [
    "name_hs = pd.DataFrame()\n",
    "\n",
    "if len(html_json) > 0:\n",
    "    name_h = [] # 빈 list 생성\n",
    "    for i in range(len(html_json)):\n",
    "        TRD_DD = html_json[i]['TRD_DD'] # 해당 날짜 추출\n",
    "        MKTCAP = html_json[i]['MKTCAP'] # 해당 row의 시가총액 추출\n",
    "        LIST_SHRS = html_json[i]['LIST_SHRS'] # 해당 row의 상장주식수 추출\n",
    "        # 날짜, 종목 코드, 종목 이름을 name_h에 추가\n",
    "        name_h.append((TRD_DD, MKTCAP, LIST_SHRS))\n",
    "    # columns 재설정\n",
    "    name_h = pd.DataFrame(name_h, columns=['date', '시가총액', '상장주식수'])\n",
    "    name_hs = name_hs.append(name_h, ignore_index=True)\n",
    "else:\n",
    "    pass"
   ]
  },
  {
   "cell_type": "code",
   "execution_count": 57,
   "id": "675470f1",
   "metadata": {
    "ExecuteTime": {
     "end_time": "2022-06-07T18:22:48.091258Z",
     "start_time": "2022-06-07T18:22:48.072998Z"
    }
   },
   "outputs": [
    {
     "data": {
      "text/html": [
       "<div>\n",
       "<style scoped>\n",
       "    .dataframe tbody tr th:only-of-type {\n",
       "        vertical-align: middle;\n",
       "    }\n",
       "\n",
       "    .dataframe tbody tr th {\n",
       "        vertical-align: top;\n",
       "    }\n",
       "\n",
       "    .dataframe thead th {\n",
       "        text-align: right;\n",
       "    }\n",
       "</style>\n",
       "<table border=\"1\" class=\"dataframe\">\n",
       "  <thead>\n",
       "    <tr style=\"text-align: right;\">\n",
       "      <th></th>\n",
       "      <th>date</th>\n",
       "      <th>시가총액</th>\n",
       "      <th>상장주식수</th>\n",
       "    </tr>\n",
       "  </thead>\n",
       "  <tbody>\n",
       "    <tr>\n",
       "      <th>0</th>\n",
       "      <td>2022/06/07</td>\n",
       "      <td>36,370,818,829,800</td>\n",
       "      <td>444,088,142</td>\n",
       "    </tr>\n",
       "    <tr>\n",
       "      <th>1</th>\n",
       "      <td>2022/06/03</td>\n",
       "      <td>38,058,353,769,400</td>\n",
       "      <td>444,088,142</td>\n",
       "    </tr>\n",
       "    <tr>\n",
       "      <th>2</th>\n",
       "      <td>2022/06/02</td>\n",
       "      <td>37,170,177,485,400</td>\n",
       "      <td>444,088,142</td>\n",
       "    </tr>\n",
       "    <tr>\n",
       "      <th>3</th>\n",
       "      <td>2022/05/31</td>\n",
       "      <td>37,747,492,070,000</td>\n",
       "      <td>444,088,142</td>\n",
       "    </tr>\n",
       "    <tr>\n",
       "      <th>4</th>\n",
       "      <td>2022/05/30</td>\n",
       "      <td>37,258,995,113,800</td>\n",
       "      <td>444,088,142</td>\n",
       "    </tr>\n",
       "    <tr>\n",
       "      <th>5</th>\n",
       "      <td>2022/05/27</td>\n",
       "      <td>36,282,001,201,400</td>\n",
       "      <td>444,088,142</td>\n",
       "    </tr>\n",
       "    <tr>\n",
       "      <th>6</th>\n",
       "      <td>2022/05/26</td>\n",
       "      <td>36,193,183,573,000</td>\n",
       "      <td>444,088,142</td>\n",
       "    </tr>\n",
       "    <tr>\n",
       "      <th>7</th>\n",
       "      <td>2022/05/25</td>\n",
       "      <td>36,326,410,015,600</td>\n",
       "      <td>444,088,142</td>\n",
       "    </tr>\n",
       "    <tr>\n",
       "      <th>8</th>\n",
       "      <td>2022/05/24</td>\n",
       "      <td>35,793,504,245,200</td>\n",
       "      <td>444,088,142</td>\n",
       "    </tr>\n",
       "    <tr>\n",
       "      <th>9</th>\n",
       "      <td>2022/05/23</td>\n",
       "      <td>36,814,906,971,800</td>\n",
       "      <td>444,088,142</td>\n",
       "    </tr>\n",
       "    <tr>\n",
       "      <th>10</th>\n",
       "      <td>2022/05/20</td>\n",
       "      <td>36,859,315,786,000</td>\n",
       "      <td>444,088,142</td>\n",
       "    </tr>\n",
       "    <tr>\n",
       "      <th>11</th>\n",
       "      <td>2022/05/19</td>\n",
       "      <td>35,704,686,616,800</td>\n",
       "      <td>444,088,142</td>\n",
       "    </tr>\n",
       "    <tr>\n",
       "      <th>12</th>\n",
       "      <td>2022/05/18</td>\n",
       "      <td>36,681,680,529,200</td>\n",
       "      <td>444,088,142</td>\n",
       "    </tr>\n",
       "    <tr>\n",
       "      <th>13</th>\n",
       "      <td>2022/05/17</td>\n",
       "      <td>36,948,133,414,400</td>\n",
       "      <td>444,088,142</td>\n",
       "    </tr>\n",
       "    <tr>\n",
       "      <th>14</th>\n",
       "      <td>2022/05/16</td>\n",
       "      <td>36,548,454,086,600</td>\n",
       "      <td>444,088,142</td>\n",
       "    </tr>\n",
       "  </tbody>\n",
       "</table>\n",
       "</div>"
      ],
      "text/plain": [
       "          date                시가총액        상장주식수\n",
       "0   2022/06/07  36,370,818,829,800  444,088,142\n",
       "1   2022/06/03  38,058,353,769,400  444,088,142\n",
       "2   2022/06/02  37,170,177,485,400  444,088,142\n",
       "3   2022/05/31  37,747,492,070,000  444,088,142\n",
       "4   2022/05/30  37,258,995,113,800  444,088,142\n",
       "5   2022/05/27  36,282,001,201,400  444,088,142\n",
       "6   2022/05/26  36,193,183,573,000  444,088,142\n",
       "7   2022/05/25  36,326,410,015,600  444,088,142\n",
       "8   2022/05/24  35,793,504,245,200  444,088,142\n",
       "9   2022/05/23  36,814,906,971,800  444,088,142\n",
       "10  2022/05/20  36,859,315,786,000  444,088,142\n",
       "11  2022/05/19  35,704,686,616,800  444,088,142\n",
       "12  2022/05/18  36,681,680,529,200  444,088,142\n",
       "13  2022/05/17  36,948,133,414,400  444,088,142\n",
       "14  2022/05/16  36,548,454,086,600  444,088,142"
      ]
     },
     "execution_count": 57,
     "metadata": {},
     "output_type": "execute_result"
    }
   ],
   "source": [
    "name_hs"
   ]
  },
  {
   "cell_type": "code",
   "execution_count": null,
   "id": "5b2dd463",
   "metadata": {},
   "outputs": [],
   "source": []
  }
 ],
 "metadata": {
  "hide_input": false,
  "kernelspec": {
   "display_name": "Python 3",
   "language": "python",
   "name": "python3"
  },
  "language_info": {
   "codemirror_mode": {
    "name": "ipython",
    "version": 3
   },
   "file_extension": ".py",
   "mimetype": "text/x-python",
   "name": "python",
   "nbconvert_exporter": "python",
   "pygments_lexer": "ipython3",
   "version": "3.8.8"
  },
  "toc": {
   "base_numbering": 1,
   "nav_menu": {},
   "number_sections": true,
   "sideBar": true,
   "skip_h1_title": false,
   "title_cell": "Table of Contents",
   "title_sidebar": "Contents",
   "toc_cell": false,
   "toc_position": {},
   "toc_section_display": true,
   "toc_window_display": false
  },
  "varInspector": {
   "cols": {
    "lenName": 16,
    "lenType": 16,
    "lenVar": 40
   },
   "kernels_config": {
    "python": {
     "delete_cmd_postfix": "",
     "delete_cmd_prefix": "del ",
     "library": "var_list.py",
     "varRefreshCmd": "print(var_dic_list())"
    },
    "r": {
     "delete_cmd_postfix": ") ",
     "delete_cmd_prefix": "rm(",
     "library": "var_list.r",
     "varRefreshCmd": "cat(var_dic_list()) "
    }
   },
   "types_to_exclude": [
    "module",
    "function",
    "builtin_function_or_method",
    "instance",
    "_Feature"
   ],
   "window_display": false
  }
 },
 "nbformat": 4,
 "nbformat_minor": 5
}
