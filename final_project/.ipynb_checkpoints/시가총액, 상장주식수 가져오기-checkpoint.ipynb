{
 "cells": [
  {
   "cell_type": "code",
   "execution_count": 1,
   "id": "20040483",
   "metadata": {
    "ExecuteTime": {
     "end_time": "2022-06-07T16:21:44.249330Z",
     "start_time": "2022-06-07T16:21:42.615174Z"
    }
   },
   "outputs": [],
   "source": [
    "import requests # HTTP 호출 패키지\n",
    "import json # json 형식의 파일 관련 패키지\n",
    "import pandas as pd # 데이터 분석 및 연산 패키지"
   ]
  },
  {
   "cell_type": "code",
   "execution_count": 2,
   "id": "908ac1e8",
   "metadata": {
    "ExecuteTime": {
     "end_time": "2022-06-07T16:22:54.532906Z",
     "start_time": "2022-06-07T16:22:54.529267Z"
    }
   },
   "outputs": [],
   "source": [
    "# headers 선언\n",
    "headers = {\n",
    "    'User-Agent': 'Mozilla/5.0 (Windows NT 10.0; Win64; x64) AppleWebKit/537.36 (KHTML, like Gecko) Chrome/102.0.0.0 Safari/537.36',\n",
    "    'X-Requested-With': 'XMLHttpRequest'\n",
    "}"
   ]
  },
  {
   "cell_type": "code",
   "execution_count": 39,
   "id": "c762daf9",
   "metadata": {
    "ExecuteTime": {
     "end_time": "2022-06-07T18:20:42.426517Z",
     "start_time": "2022-06-07T18:20:42.386192Z"
    }
   },
   "outputs": [],
   "source": [
    "p_data = {\n",
    "    'bld': 'dbms/MDC/STAT/standard/MDCSTAT01701', # 화면번호\n",
    "    'isuCd': 'KR7035720002',\n",
    "    'isuCd2': 'KR7005930003',\n",
    "    'codeNmisuCd_finder_stkisu0_0': '카카오',\n",
    "    'param1isuCd_finder_stkisu0_0': 'ALL',\n",
    "    'strtDd': '20220601', \n",
    "    'endDd': '20220607',\n",
    "    'share' : '1',\n",
    "    'money': '1', # 금액 단위\n",
    "    'csvxls_isNo': 'false' # (false)\n",
    "}"
   ]
  },
  {
   "cell_type": "code",
   "execution_count": 9,
   "id": "de00ad30",
   "metadata": {
    "ExecuteTime": {
     "end_time": "2022-06-07T16:31:55.700676Z",
     "start_time": "2022-06-07T16:31:55.695839Z"
    }
   },
   "outputs": [],
   "source": [
    "url = 'http://data.krx.co.kr/comm/bldAttendant/getJsonData.cmd'"
   ]
  },
  {
   "cell_type": "code",
   "execution_count": 36,
   "id": "adb8f27a",
   "metadata": {
    "ExecuteTime": {
     "end_time": "2022-06-07T18:01:29.978757Z",
     "start_time": "2022-06-07T18:01:29.866427Z"
    }
   },
   "outputs": [],
   "source": [
    "res = requests.post(url, headers=headers, data=p_data)"
   ]
  },
  {
   "cell_type": "code",
   "execution_count": 37,
   "id": "bd161a6a",
   "metadata": {
    "ExecuteTime": {
     "end_time": "2022-06-07T18:01:31.566379Z",
     "start_time": "2022-06-07T18:01:31.554007Z"
    }
   },
   "outputs": [],
   "source": [
    "html_json = json.loads(res.content)"
   ]
  },
  {
   "cell_type": "code",
   "execution_count": 38,
   "id": "d3ecabec",
   "metadata": {
    "ExecuteTime": {
     "end_time": "2022-06-07T18:01:33.128059Z",
     "start_time": "2022-06-07T18:01:33.114207Z"
    }
   },
   "outputs": [
    {
     "data": {
      "text/plain": [
       "[{'TRD_DD': '2022/06/07',\n",
       "  'TDD_CLSPRC': '81,900',\n",
       "  'FLUC_TP_CD': '2',\n",
       "  'CMPPREVDD_PRC': '-3,800',\n",
       "  'FLUC_RT': '-4.43',\n",
       "  'TDD_OPNPRC': '84,500',\n",
       "  'TDD_HGPRC': '84,800',\n",
       "  'TDD_LWPRC': '81,600',\n",
       "  'ACC_TRDVOL': '2,373,935',\n",
       "  'ACC_TRDVAL': '196,169,225,300',\n",
       "  'MKTCAP': '36,370,818,829,800',\n",
       "  'LIST_SHRS': '444,088,142'},\n",
       " {'TRD_DD': '2022/06/03',\n",
       "  'TDD_CLSPRC': '85,700',\n",
       "  'FLUC_TP_CD': '1',\n",
       "  'CMPPREVDD_PRC': '2,000',\n",
       "  'FLUC_RT': '2.39',\n",
       "  'TDD_OPNPRC': '84,800',\n",
       "  'TDD_HGPRC': '87,400',\n",
       "  'TDD_LWPRC': '84,700',\n",
       "  'ACC_TRDVOL': '2,371,620',\n",
       "  'ACC_TRDVAL': '204,453,657,500',\n",
       "  'MKTCAP': '38,058,353,769,400',\n",
       "  'LIST_SHRS': '444,088,142'},\n",
       " {'TRD_DD': '2022/06/02',\n",
       "  'TDD_CLSPRC': '83,700',\n",
       "  'FLUC_TP_CD': '2',\n",
       "  'CMPPREVDD_PRC': '-1,300',\n",
       "  'FLUC_RT': '-1.53',\n",
       "  'TDD_OPNPRC': '84,000',\n",
       "  'TDD_HGPRC': '84,200',\n",
       "  'TDD_LWPRC': '82,900',\n",
       "  'ACC_TRDVOL': '1,147,185',\n",
       "  'ACC_TRDVAL': '95,753,857,100',\n",
       "  'MKTCAP': '37,170,177,485,400',\n",
       "  'LIST_SHRS': '444,088,142'}]"
      ]
     },
     "execution_count": 38,
     "metadata": {},
     "output_type": "execute_result"
    }
   ],
   "source": [
    "html_json = html_json['output']\n",
    "html_json"
   ]
  },
  {
   "cell_type": "code",
   "execution_count": 29,
   "id": "277a3504",
   "metadata": {
    "ExecuteTime": {
     "end_time": "2022-06-07T17:32:53.025156Z",
     "start_time": "2022-06-07T17:32:52.982692Z"
    }
   },
   "outputs": [
    {
     "data": {
      "text/html": [
       "<div>\n",
       "<style scoped>\n",
       "    .dataframe tbody tr th:only-of-type {\n",
       "        vertical-align: middle;\n",
       "    }\n",
       "\n",
       "    .dataframe tbody tr th {\n",
       "        vertical-align: top;\n",
       "    }\n",
       "\n",
       "    .dataframe thead th {\n",
       "        text-align: right;\n",
       "    }\n",
       "</style>\n",
       "<table border=\"1\" class=\"dataframe\">\n",
       "  <thead>\n",
       "    <tr style=\"text-align: right;\">\n",
       "      <th></th>\n",
       "      <th>TRD_DD</th>\n",
       "      <th>TDD_CLSPRC</th>\n",
       "      <th>FLUC_TP_CD</th>\n",
       "      <th>CMPPREVDD_PRC</th>\n",
       "      <th>FLUC_RT</th>\n",
       "      <th>TDD_OPNPRC</th>\n",
       "      <th>TDD_HGPRC</th>\n",
       "      <th>TDD_LWPRC</th>\n",
       "      <th>ACC_TRDVOL</th>\n",
       "      <th>ACC_TRDVAL</th>\n",
       "      <th>MKTCAP</th>\n",
       "      <th>LIST_SHRS</th>\n",
       "    </tr>\n",
       "  </thead>\n",
       "  <tbody>\n",
       "    <tr>\n",
       "      <th>0</th>\n",
       "      <td>2022/06/07</td>\n",
       "      <td>81,900</td>\n",
       "      <td>2</td>\n",
       "      <td>-3,800</td>\n",
       "      <td>-4.43</td>\n",
       "      <td>84,500</td>\n",
       "      <td>84,800</td>\n",
       "      <td>81,600</td>\n",
       "      <td>2,373,935</td>\n",
       "      <td>196,169,225,300</td>\n",
       "      <td>36,370,818,829,800</td>\n",
       "      <td>444,088,142</td>\n",
       "    </tr>\n",
       "    <tr>\n",
       "      <th>1</th>\n",
       "      <td>2022/06/03</td>\n",
       "      <td>85,700</td>\n",
       "      <td>1</td>\n",
       "      <td>2,000</td>\n",
       "      <td>2.39</td>\n",
       "      <td>84,800</td>\n",
       "      <td>87,400</td>\n",
       "      <td>84,700</td>\n",
       "      <td>2,371,620</td>\n",
       "      <td>204,453,657,500</td>\n",
       "      <td>38,058,353,769,400</td>\n",
       "      <td>444,088,142</td>\n",
       "    </tr>\n",
       "    <tr>\n",
       "      <th>2</th>\n",
       "      <td>2022/06/02</td>\n",
       "      <td>83,700</td>\n",
       "      <td>2</td>\n",
       "      <td>-1,300</td>\n",
       "      <td>-1.53</td>\n",
       "      <td>84,000</td>\n",
       "      <td>84,200</td>\n",
       "      <td>82,900</td>\n",
       "      <td>1,147,185</td>\n",
       "      <td>95,753,857,100</td>\n",
       "      <td>37,170,177,485,400</td>\n",
       "      <td>444,088,142</td>\n",
       "    </tr>\n",
       "  </tbody>\n",
       "</table>\n",
       "</div>"
      ],
      "text/plain": [
       "       TRD_DD TDD_CLSPRC FLUC_TP_CD CMPPREVDD_PRC FLUC_RT TDD_OPNPRC  \\\n",
       "0  2022/06/07     81,900          2        -3,800   -4.43     84,500   \n",
       "1  2022/06/03     85,700          1         2,000    2.39     84,800   \n",
       "2  2022/06/02     83,700          2        -1,300   -1.53     84,000   \n",
       "\n",
       "  TDD_HGPRC TDD_LWPRC ACC_TRDVOL       ACC_TRDVAL              MKTCAP  \\\n",
       "0    84,800    81,600  2,373,935  196,169,225,300  36,370,818,829,800   \n",
       "1    87,400    84,700  2,371,620  204,453,657,500  38,058,353,769,400   \n",
       "2    84,200    82,900  1,147,185   95,753,857,100  37,170,177,485,400   \n",
       "\n",
       "     LIST_SHRS  \n",
       "0  444,088,142  \n",
       "1  444,088,142  \n",
       "2  444,088,142  "
      ]
     },
     "execution_count": 29,
     "metadata": {},
     "output_type": "execute_result"
    }
   ],
   "source": [
    "# json 형태의 결과값을 DataFrame 형식으로 df에 할당\n",
    "df = pd.json_normalize(html_json['output'])\n",
    "df.head()"
   ]
  },
  {
   "cell_type": "code",
   "execution_count": 33,
   "id": "d573c222",
   "metadata": {
    "ExecuteTime": {
     "end_time": "2022-06-07T17:34:14.667359Z",
     "start_time": "2022-06-07T17:34:14.653786Z"
    }
   },
   "outputs": [],
   "source": [
    "name_hs = pd.DataFrame()\n",
    "\n",
    "if len(html_json) > 0:\n",
    "    name_h = [] # 빈 list 생성\n",
    "    for i in range(len(html_json)):\n",
    "        TRD_DD = html_json[i]['TRD_DD'] # 해당 날짜 추출\n",
    "        MKTCAP = html_json[i]['MKTCAP'] # 해당 row의 시가총액 추출\n",
    "        LIST_SHRS = html_json[i]['LIST_SHRS'] # 해당 row의 상장주식수 추출\n",
    "        # 날짜, 종목 코드, 종목 이름을 name_h에 추가\n",
    "        name_h.append((TRD_DD, MKTCAP, LIST_SHRS))\n",
    "    # columns 재설정\n",
    "    name_h = pd.DataFrame(name_h, columns=['date', '시가총액', '상장주식수'])\n",
    "    name_hs = name_hs.append(name_h, ignore_index=True)\n",
    "else:\n",
    "    pass"
   ]
  },
  {
   "cell_type": "code",
   "execution_count": 34,
   "id": "1001e5dd",
   "metadata": {
    "ExecuteTime": {
     "end_time": "2022-06-07T17:34:15.943024Z",
     "start_time": "2022-06-07T17:34:15.931809Z"
    }
   },
   "outputs": [
    {
     "data": {
      "text/html": [
       "<div>\n",
       "<style scoped>\n",
       "    .dataframe tbody tr th:only-of-type {\n",
       "        vertical-align: middle;\n",
       "    }\n",
       "\n",
       "    .dataframe tbody tr th {\n",
       "        vertical-align: top;\n",
       "    }\n",
       "\n",
       "    .dataframe thead th {\n",
       "        text-align: right;\n",
       "    }\n",
       "</style>\n",
       "<table border=\"1\" class=\"dataframe\">\n",
       "  <thead>\n",
       "    <tr style=\"text-align: right;\">\n",
       "      <th></th>\n",
       "      <th>date</th>\n",
       "      <th>시가총액</th>\n",
       "      <th>상장주식수</th>\n",
       "    </tr>\n",
       "  </thead>\n",
       "  <tbody>\n",
       "    <tr>\n",
       "      <th>0</th>\n",
       "      <td>20220603</td>\n",
       "      <td>36,370,818,829,800</td>\n",
       "      <td>444,088,142</td>\n",
       "    </tr>\n",
       "    <tr>\n",
       "      <th>1</th>\n",
       "      <td>20220603</td>\n",
       "      <td>38,058,353,769,400</td>\n",
       "      <td>444,088,142</td>\n",
       "    </tr>\n",
       "    <tr>\n",
       "      <th>2</th>\n",
       "      <td>20220603</td>\n",
       "      <td>37,170,177,485,400</td>\n",
       "      <td>444,088,142</td>\n",
       "    </tr>\n",
       "  </tbody>\n",
       "</table>\n",
       "</div>"
      ],
      "text/plain": [
       "       date                시가총액        상장주식수\n",
       "0  20220603  36,370,818,829,800  444,088,142\n",
       "1  20220603  38,058,353,769,400  444,088,142\n",
       "2  20220603  37,170,177,485,400  444,088,142"
      ]
     },
     "execution_count": 34,
     "metadata": {},
     "output_type": "execute_result"
    }
   ],
   "source": [
    "name_hs.head()"
   ]
  },
  {
   "cell_type": "code",
   "execution_count": null,
   "id": "f956a197",
   "metadata": {},
   "outputs": [],
   "source": []
  }
 ],
 "metadata": {
  "hide_input": false,
  "kernelspec": {
   "display_name": "Python 3",
   "language": "python",
   "name": "python3"
  },
  "language_info": {
   "codemirror_mode": {
    "name": "ipython",
    "version": 3
   },
   "file_extension": ".py",
   "mimetype": "text/x-python",
   "name": "python",
   "nbconvert_exporter": "python",
   "pygments_lexer": "ipython3",
   "version": "3.8.8"
  },
  "toc": {
   "base_numbering": 1,
   "nav_menu": {},
   "number_sections": true,
   "sideBar": true,
   "skip_h1_title": false,
   "title_cell": "Table of Contents",
   "title_sidebar": "Contents",
   "toc_cell": false,
   "toc_position": {},
   "toc_section_display": true,
   "toc_window_display": false
  },
  "varInspector": {
   "cols": {
    "lenName": 16,
    "lenType": 16,
    "lenVar": 40
   },
   "kernels_config": {
    "python": {
     "delete_cmd_postfix": "",
     "delete_cmd_prefix": "del ",
     "library": "var_list.py",
     "varRefreshCmd": "print(var_dic_list())"
    },
    "r": {
     "delete_cmd_postfix": ") ",
     "delete_cmd_prefix": "rm(",
     "library": "var_list.r",
     "varRefreshCmd": "cat(var_dic_list()) "
    }
   },
   "types_to_exclude": [
    "module",
    "function",
    "builtin_function_or_method",
    "instance",
    "_Feature"
   ],
   "window_display": false
  }
 },
 "nbformat": 4,
 "nbformat_minor": 5
}
