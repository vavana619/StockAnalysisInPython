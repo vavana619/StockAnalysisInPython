{
 "cells": [
  {
   "cell_type": "markdown",
   "id": "b8e018bc",
   "metadata": {},
   "source": [
    "# 파이썬을 이용한 MariaDB 접속 예제"
   ]
  },
  {
   "cell_type": "code",
   "execution_count": 1,
   "id": "8751fe50",
   "metadata": {
    "ExecuteTime": {
     "end_time": "2022-05-16T06:35:28.829057Z",
     "start_time": "2022-05-16T06:35:28.402159Z"
    }
   },
   "outputs": [],
   "source": [
    "import pymysql # sql 사용 패키지"
   ]
  },
  {
   "cell_type": "code",
   "execution_count": 2,
   "id": "d6438824",
   "metadata": {
    "ExecuteTime": {
     "end_time": "2022-05-16T06:35:28.844453Z",
     "start_time": "2022-05-16T06:35:28.836082Z"
    }
   },
   "outputs": [],
   "source": [
    "Mypassword = 'sandy9706'"
   ]
  },
  {
   "cell_type": "code",
   "execution_count": 3,
   "id": "d4eb3a41",
   "metadata": {
    "ExecuteTime": {
     "end_time": "2022-05-16T06:35:28.920854Z",
     "start_time": "2022-05-16T06:35:28.852153Z"
    }
   },
   "outputs": [],
   "source": [
    "# DB와의 통로 열기\n",
    "connection = pymysql.connect(host = 'localhost', port = 3306, db='mydb_1', user = 'root', passwd = Mypassword, autocommit = True)"
   ]
  },
  {
   "cell_type": "code",
   "execution_count": 4,
   "id": "01b116b1",
   "metadata": {
    "ExecuteTime": {
     "end_time": "2022-05-16T06:35:28.936355Z",
     "start_time": "2022-05-16T06:35:28.927820Z"
    }
   },
   "outputs": [],
   "source": [
    "# 실행결과를 cursor에 담기\n",
    "cursor = connection.cursor()"
   ]
  },
  {
   "cell_type": "code",
   "execution_count": 5,
   "id": "07682205",
   "metadata": {
    "ExecuteTime": {
     "end_time": "2022-05-16T06:35:28.983299Z",
     "start_time": "2022-05-16T06:35:28.942273Z"
    }
   },
   "outputs": [
    {
     "data": {
      "text/plain": [
       "1"
      ]
     },
     "execution_count": 5,
     "metadata": {},
     "output_type": "execute_result"
    }
   ],
   "source": [
    "# DB version 확인 SQL문 실행\n",
    "cursor.execute(\"SELECT VERSION();\")"
   ]
  },
  {
   "cell_type": "code",
   "execution_count": 6,
   "id": "7d34f94f",
   "metadata": {
    "ExecuteTime": {
     "end_time": "2022-05-16T06:35:29.013715Z",
     "start_time": "2022-05-16T06:35:28.990740Z"
    }
   },
   "outputs": [
    {
     "name": "stdout",
     "output_type": "stream",
     "text": [
      "MariaDB version: ('10.6.7-MariaDB',)\n"
     ]
    }
   ],
   "source": [
    "# 한 줄 가져오기\n",
    "result = cursor.fetchone()\n",
    "print(\"MariaDB version: {}\".format(result))"
   ]
  },
  {
   "cell_type": "code",
   "execution_count": 7,
   "id": "81fd3495",
   "metadata": {
    "ExecuteTime": {
     "end_time": "2022-05-16T06:35:29.029313Z",
     "start_time": "2022-05-16T06:35:29.018173Z"
    }
   },
   "outputs": [],
   "source": [
    "# DB와의 통로 닫음\n",
    "connection.close()"
   ]
  }
 ],
 "metadata": {
  "hide_input": false,
  "kernelspec": {
   "display_name": "Python 3",
   "language": "python",
   "name": "python3"
  },
  "language_info": {
   "codemirror_mode": {
    "name": "ipython",
    "version": 3
   },
   "file_extension": ".py",
   "mimetype": "text/x-python",
   "name": "python",
   "nbconvert_exporter": "python",
   "pygments_lexer": "ipython3",
   "version": "3.8.8"
  },
  "toc": {
   "base_numbering": 1,
   "nav_menu": {},
   "number_sections": true,
   "sideBar": true,
   "skip_h1_title": false,
   "title_cell": "Table of Contents",
   "title_sidebar": "Contents",
   "toc_cell": false,
   "toc_position": {},
   "toc_section_display": true,
   "toc_window_display": false
  },
  "varInspector": {
   "cols": {
    "lenName": 16,
    "lenType": 16,
    "lenVar": 40
   },
   "kernels_config": {
    "python": {
     "delete_cmd_postfix": "",
     "delete_cmd_prefix": "del ",
     "library": "var_list.py",
     "varRefreshCmd": "print(var_dic_list())"
    },
    "r": {
     "delete_cmd_postfix": ") ",
     "delete_cmd_prefix": "rm(",
     "library": "var_list.r",
     "varRefreshCmd": "cat(var_dic_list()) "
    }
   },
   "types_to_exclude": [
    "module",
    "function",
    "builtin_function_or_method",
    "instance",
    "_Feature"
   ],
   "window_display": false
  }
 },
 "nbformat": 4,
 "nbformat_minor": 5
}
