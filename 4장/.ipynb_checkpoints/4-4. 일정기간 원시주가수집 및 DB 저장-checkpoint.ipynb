{
 "cells": [
  {
   "cell_type": "code",
   "execution_count": 1,
   "id": "9f5ee5a2",
   "metadata": {
    "ExecuteTime": {
     "end_time": "2022-05-18T02:07:16.323602Z",
     "start_time": "2022-05-18T02:07:16.311906Z"
    }
   },
   "outputs": [],
   "source": [
    "password = 'sandy9706' # 본인의 DB password"
   ]
  },
  {
   "cell_type": "code",
   "execution_count": 2,
   "id": "d1d37939",
   "metadata": {
    "ExecuteTime": {
     "end_time": "2022-05-18T02:07:17.989571Z",
     "start_time": "2022-05-18T02:07:16.327585Z"
    }
   },
   "outputs": [],
   "source": [
    "import pandas as pd\n",
    "import numpy as np\n",
    "import time, json, requests \n",
    "from datetime import datetime, timedelta, date\n",
    "\n",
    "import pymysql # python에서 mysql을 사용하는 패키지\n",
    "\n",
    "import sqlalchemy # sql 접근 및 관리를 도와주는 패키지\n",
    "from sqlalchemy import create_engine"
   ]
  },
  {
   "cell_type": "code",
   "execution_count": 3,
   "id": "99004e03",
   "metadata": {
    "ExecuteTime": {
     "end_time": "2022-05-18T02:07:18.065720Z",
     "start_time": "2022-05-18T02:07:17.994129Z"
    }
   },
   "outputs": [],
   "source": [
    "server = '127.0.0.1' # local server\n",
    "user = 'root' # user name\n",
    "password = password # 개인 password\n",
    "db = 'mydb_1' # DB 이름\n",
    "\n",
    "# sqlalchemy의 create_engine을 이용해 DB 연결\n",
    "engine = create_engine('mysql+pymysql://{}:{}@{}/{}?charset=utf8'.format(user,password,server,db))"
   ]
  },
  {
   "cell_type": "markdown",
   "id": "c7acd089",
   "metadata": {},
   "source": [
    "* getDateRange() : 시작일과 종료일 사이의 주말을 제외한 날짜 리스트를 구하는 함수\n",
    "  > 리턴값 : 기간 내 모든 일자의 datetime object 리스트 객체"
   ]
  },
  {
   "cell_type": "code",
   "execution_count": 4,
   "id": "d3e1809d",
   "metadata": {
    "ExecuteTime": {
     "end_time": "2022-05-18T02:07:18.081811Z",
     "start_time": "2022-05-18T02:07:18.067761Z"
    }
   },
   "outputs": [],
   "source": [
    "def getDateRange(st_date, end_date): # 기간 시작일, 기간 종료일을 파라미터로 받음\n",
    "    print(st_date)\n",
    "    print(int((end_date - st_date).days) + 1)\n",
    "    for n in range(int((end_date - st_date).days) + 1): # 수집 기간을 구한 후 해당하는 기간만큼 for문 수행\n",
    "        # print(st_date + timedelta(days=n))\n",
    "        yield st_date + timedelta(days=n) # yield : 함수를 Generator로 만들고 변수를 지정하는 명령어"
   ]
  },
  {
   "cell_type": "code",
   "execution_count": 5,
   "id": "11807d9f",
   "metadata": {
    "ExecuteTime": {
     "end_time": "2022-05-18T02:07:18.095918Z",
     "start_time": "2022-05-18T02:07:18.083825Z"
    }
   },
   "outputs": [
    {
     "name": "stdout",
     "output_type": "stream",
     "text": [
      "2022-05-01\n",
      "10\n"
     ]
    }
   ],
   "source": [
    "# str 형식으로 시작 날짜(st_dt)와 종료 날짜(end_dt)를 지정ㅎ\n",
    "st_dt = '20220501'\n",
    "end_dt = '20220510'\n",
    "# 입력받은 날짜를 datetime.date(Y, m, d) 형식으로 변환\n",
    "sdate = datetime.strptime(st_dt, '%Y%m%d').date()\n",
    "edate = datetime.strptime(end_dt, '%Y%m%d').date()\n",
    "\n",
    "dt_idx = [] # 수집 기간의 날짜\n",
    "for dt in getDateRange(sdate, edate):\n",
    "    if dt.isoweekday() < 6: # isoweekday : 요일 번호 추출 (6 이하인 경우 평일을 의미)\n",
    "        dt_idx.append(dt.strftime(\"%Y%m%d\")) # 조건을 만족했다면 dt_idx 리스트에 날짜를 저장"
   ]
  },
  {
   "cell_type": "code",
   "execution_count": 6,
   "id": "320f63f5",
   "metadata": {
    "ExecuteTime": {
     "end_time": "2022-05-18T02:07:18.111181Z",
     "start_time": "2022-05-18T02:07:18.098351Z"
    }
   },
   "outputs": [
    {
     "name": "stdout",
     "output_type": "stream",
     "text": [
      "['20220502', '20220503', '20220504', '20220505', '20220506', '20220509', '20220510']\n"
     ]
    }
   ],
   "source": [
    "print(dt_idx) # 입력된 날짜가 평일인 경우 출력"
   ]
  },
  {
   "cell_type": "code",
   "execution_count": 7,
   "id": "ddc7e22a",
   "metadata": {
    "ExecuteTime": {
     "end_time": "2022-05-18T02:07:18.143469Z",
     "start_time": "2022-05-18T02:07:18.114861Z"
    }
   },
   "outputs": [],
   "source": [
    "def getKRXPrice(mktId, st_dt, end_dt):\n",
    "    headers = {\n",
    "        \"User-Agent\": \"Mozilla/5.0 (Windows NT 10.0; Win64; x64) AppleWebKit/537.36 (KHTML, like Gecko) Chrome/87.0.4280.141 Safari/537.36\",\n",
    "        \"X-Requested-With\": \"XMLHttpRequest\",\n",
    "        \"Referer\": \"http://data.krx.co.kr/contents/MDC/MDI/mdiLoader/index.cmd?menuId=MDC0201020103\"\n",
    "    }\n",
    "    # 수집 기간 설정\n",
    "    sdate = datetime.strptime(st_dt, '%Y%m%d').date()\n",
    "    edate = datetime.strptime(end_dt, '%Y%m%d').date()\n",
    "    dt_idx = [] # 수집 기간의 날짜\n",
    "    for dt in getDateRange(sdate, edate):\n",
    "        if dt.isoweekday() < 6:\n",
    "            dt_idx.append(dt.strftime(\"%Y%m%d\"))\n",
    "    \n",
    "    daily = []\n",
    "    for dt in dt_idx:\n",
    "        # 날짜별 전종목 일봉 불러오기\n",
    "        p_data = {\n",
    "            'bld': 'dbms/MDC/STAT/standard/MDCSTAT01501',\n",
    "            'mktId': mktId,\n",
    "            'trdDd': dt,\n",
    "            'share': '1',\n",
    "            'money': '1',\n",
    "            'csvxls_isNo': 'false'\n",
    "        }\n",
    "        url = \"http://data.krx.co.kr/comm/bldAttendant/getJsonData.cmd\"\n",
    "        res = requests.post(url, headers=headers, data=p_data)\n",
    "        html_text = res.content\n",
    "        html_json = json.loads(html_text)\n",
    "        html_jsons = html_json['OutBlock_1']\n",
    "        \n",
    "        if len(html_jsons) > 0:\n",
    "            for html_json in html_jsons:\n",
    "                if html_json['TDD_OPNPRC'] == '-': # 시장이 열리지 않아 값이 없는 경우\n",
    "                    continue\n",
    "\n",
    "                ISU_SRT_CD = html_json['ISU_SRT_CD']\n",
    "                ISU_ABBRV = html_json['ISU_ABBRV']\n",
    "                TRD_DD = datetime.strptime(dt,'%Y%m%d').strftime('%Y-%m-%d')\n",
    "\n",
    "                FLUC_RT = float(html_json['FLUC_RT'].replace(',',''))/100\n",
    "                TDD_CLSPRC = int(html_json['TDD_CLSPRC'].replace(',',''))\n",
    "                TDD_OPNPRC = int(html_json['TDD_OPNPRC'].replace(',',''))\n",
    "                TDD_HGPRC = int(html_json['TDD_HGPRC'].replace(',',''))\n",
    "                TDD_LWPRC = int(html_json['TDD_LWPRC'].replace(',',''))\n",
    "\n",
    "                ACC_TRDVOL = int(html_json['ACC_TRDVOL'].replace(',',''))\n",
    "                ACC_TRDVAL = int(html_json['ACC_TRDVAL'].replace(',',''))\n",
    "                MKTCAP = int(html_json['MKTCAP'].replace(',',''))\n",
    "                LIST_SHRS = int(html_json['LIST_SHRS'].replace(',',''))\n",
    "\n",
    "                daily.append((ISU_SRT_CD,ISU_ABBRV,TRD_DD,TDD_OPNPRC,TDD_HGPRC,TDD_LWPRC,TDD_CLSPRC,ACC_TRDVOL,FLUC_RT,ACC_TRDVAL,MKTCAP,LIST_SHRS))\n",
    "        else:\n",
    "            pass\n",
    "    \n",
    "    if len(daily) > 0:\n",
    "        daily = pd.DataFrame(daily)\n",
    "        daily.columns = ['stock_code','stock_name','date','open','high','low','close','volume','change','ACC_TRDVAL','MKTCAP','LIST_SHRS']\n",
    "        daily = daily.sort_values(by='date').reset_index(drop=True)\n",
    "        return daily\n",
    "    else:\n",
    "        return pd.DataFrame()"
   ]
  },
  {
   "cell_type": "code",
   "execution_count": 8,
   "id": "6622d6b4",
   "metadata": {
    "ExecuteTime": {
     "end_time": "2022-05-18T02:07:21.927339Z",
     "start_time": "2022-05-18T02:07:18.146544Z"
    }
   },
   "outputs": [
    {
     "name": "stdout",
     "output_type": "stream",
     "text": [
      "2022-05-03\n",
      "8\n"
     ]
    }
   ],
   "source": [
    "pr_df = getKRXPrice('STK', '20220503', '20220510')"
   ]
  },
  {
   "cell_type": "code",
   "execution_count": 9,
   "id": "63be1d05",
   "metadata": {
    "ExecuteTime": {
     "end_time": "2022-05-18T02:07:21.987923Z",
     "start_time": "2022-05-18T02:07:21.931214Z"
    }
   },
   "outputs": [
    {
     "data": {
      "text/html": [
       "<div>\n",
       "<style scoped>\n",
       "    .dataframe tbody tr th:only-of-type {\n",
       "        vertical-align: middle;\n",
       "    }\n",
       "\n",
       "    .dataframe tbody tr th {\n",
       "        vertical-align: top;\n",
       "    }\n",
       "\n",
       "    .dataframe thead th {\n",
       "        text-align: right;\n",
       "    }\n",
       "</style>\n",
       "<table border=\"1\" class=\"dataframe\">\n",
       "  <thead>\n",
       "    <tr style=\"text-align: right;\">\n",
       "      <th></th>\n",
       "      <th>stock_code</th>\n",
       "      <th>stock_name</th>\n",
       "      <th>date</th>\n",
       "      <th>open</th>\n",
       "      <th>high</th>\n",
       "      <th>low</th>\n",
       "      <th>close</th>\n",
       "      <th>volume</th>\n",
       "      <th>change</th>\n",
       "      <th>ACC_TRDVAL</th>\n",
       "      <th>MKTCAP</th>\n",
       "      <th>LIST_SHRS</th>\n",
       "    </tr>\n",
       "  </thead>\n",
       "  <tbody>\n",
       "    <tr>\n",
       "      <th>0</th>\n",
       "      <td>095570</td>\n",
       "      <td>AJ네트웍스</td>\n",
       "      <td>2022-05-03</td>\n",
       "      <td>6590</td>\n",
       "      <td>6750</td>\n",
       "      <td>6570</td>\n",
       "      <td>6570</td>\n",
       "      <td>44940</td>\n",
       "      <td>-0.0120</td>\n",
       "      <td>298878030</td>\n",
       "      <td>307622478150</td>\n",
       "      <td>46822295</td>\n",
       "    </tr>\n",
       "    <tr>\n",
       "      <th>1</th>\n",
       "      <td>000227</td>\n",
       "      <td>유유제약2우B</td>\n",
       "      <td>2022-05-03</td>\n",
       "      <td>19400</td>\n",
       "      <td>19500</td>\n",
       "      <td>19400</td>\n",
       "      <td>19450</td>\n",
       "      <td>1249</td>\n",
       "      <td>0.0026</td>\n",
       "      <td>24316750</td>\n",
       "      <td>6332142000</td>\n",
       "      <td>325560</td>\n",
       "    </tr>\n",
       "    <tr>\n",
       "      <th>2</th>\n",
       "      <td>001200</td>\n",
       "      <td>유진투자증권</td>\n",
       "      <td>2022-05-03</td>\n",
       "      <td>3270</td>\n",
       "      <td>3285</td>\n",
       "      <td>3250</td>\n",
       "      <td>3270</td>\n",
       "      <td>92392</td>\n",
       "      <td>0.0000</td>\n",
       "      <td>301701785</td>\n",
       "      <td>316753186860</td>\n",
       "      <td>96866418</td>\n",
       "    </tr>\n",
       "    <tr>\n",
       "      <th>3</th>\n",
       "      <td>000100</td>\n",
       "      <td>유한양행</td>\n",
       "      <td>2022-05-03</td>\n",
       "      <td>61000</td>\n",
       "      <td>61000</td>\n",
       "      <td>59900</td>\n",
       "      <td>60500</td>\n",
       "      <td>192750</td>\n",
       "      <td>-0.0066</td>\n",
       "      <td>11664325900</td>\n",
       "      <td>4430504298000</td>\n",
       "      <td>73231476</td>\n",
       "    </tr>\n",
       "    <tr>\n",
       "      <th>4</th>\n",
       "      <td>000105</td>\n",
       "      <td>유한양행우</td>\n",
       "      <td>2022-05-03</td>\n",
       "      <td>58600</td>\n",
       "      <td>58600</td>\n",
       "      <td>57800</td>\n",
       "      <td>58200</td>\n",
       "      <td>494</td>\n",
       "      <td>-0.0017</td>\n",
       "      <td>28640300</td>\n",
       "      <td>68730708000</td>\n",
       "      <td>1180940</td>\n",
       "    </tr>\n",
       "    <tr>\n",
       "      <th>...</th>\n",
       "      <td>...</td>\n",
       "      <td>...</td>\n",
       "      <td>...</td>\n",
       "      <td>...</td>\n",
       "      <td>...</td>\n",
       "      <td>...</td>\n",
       "      <td>...</td>\n",
       "      <td>...</td>\n",
       "      <td>...</td>\n",
       "      <td>...</td>\n",
       "      <td>...</td>\n",
       "      <td>...</td>\n",
       "    </tr>\n",
       "    <tr>\n",
       "      <th>4695</th>\n",
       "      <td>018500</td>\n",
       "      <td>동원금속</td>\n",
       "      <td>2022-05-10</td>\n",
       "      <td>935</td>\n",
       "      <td>970</td>\n",
       "      <td>920</td>\n",
       "      <td>950</td>\n",
       "      <td>401350</td>\n",
       "      <td>0.0117</td>\n",
       "      <td>379939268</td>\n",
       "      <td>44417186350</td>\n",
       "      <td>46754933</td>\n",
       "    </tr>\n",
       "    <tr>\n",
       "      <th>4696</th>\n",
       "      <td>006040</td>\n",
       "      <td>동원산업</td>\n",
       "      <td>2022-05-10</td>\n",
       "      <td>231000</td>\n",
       "      <td>240000</td>\n",
       "      <td>230500</td>\n",
       "      <td>239000</td>\n",
       "      <td>5974</td>\n",
       "      <td>0.0170</td>\n",
       "      <td>1407594000</td>\n",
       "      <td>878956199000</td>\n",
       "      <td>3677641</td>\n",
       "    </tr>\n",
       "    <tr>\n",
       "      <th>4697</th>\n",
       "      <td>030720</td>\n",
       "      <td>동원수산</td>\n",
       "      <td>2022-05-10</td>\n",
       "      <td>11550</td>\n",
       "      <td>12000</td>\n",
       "      <td>11300</td>\n",
       "      <td>11600</td>\n",
       "      <td>317927</td>\n",
       "      <td>-0.0043</td>\n",
       "      <td>3686219950</td>\n",
       "      <td>53984138000</td>\n",
       "      <td>4653805</td>\n",
       "    </tr>\n",
       "    <tr>\n",
       "      <th>4698</th>\n",
       "      <td>282690</td>\n",
       "      <td>동아타이어</td>\n",
       "      <td>2022-05-10</td>\n",
       "      <td>12400</td>\n",
       "      <td>12600</td>\n",
       "      <td>12100</td>\n",
       "      <td>12550</td>\n",
       "      <td>40862</td>\n",
       "      <td>0.0121</td>\n",
       "      <td>503978650</td>\n",
       "      <td>172349338250</td>\n",
       "      <td>13733015</td>\n",
       "    </tr>\n",
       "    <tr>\n",
       "      <th>4699</th>\n",
       "      <td>003280</td>\n",
       "      <td>흥아해운</td>\n",
       "      <td>2022-05-10</td>\n",
       "      <td>2770</td>\n",
       "      <td>2770</td>\n",
       "      <td>2535</td>\n",
       "      <td>2690</td>\n",
       "      <td>539634</td>\n",
       "      <td>-0.0271</td>\n",
       "      <td>1414486840</td>\n",
       "      <td>646742978310</td>\n",
       "      <td>240424899</td>\n",
       "    </tr>\n",
       "  </tbody>\n",
       "</table>\n",
       "<p>4700 rows × 12 columns</p>\n",
       "</div>"
      ],
      "text/plain": [
       "     stock_code stock_name        date    open    high     low   close  \\\n",
       "0        095570     AJ네트웍스  2022-05-03    6590    6750    6570    6570   \n",
       "1        000227    유유제약2우B  2022-05-03   19400   19500   19400   19450   \n",
       "2        001200     유진투자증권  2022-05-03    3270    3285    3250    3270   \n",
       "3        000100       유한양행  2022-05-03   61000   61000   59900   60500   \n",
       "4        000105      유한양행우  2022-05-03   58600   58600   57800   58200   \n",
       "...         ...        ...         ...     ...     ...     ...     ...   \n",
       "4695     018500       동원금속  2022-05-10     935     970     920     950   \n",
       "4696     006040       동원산업  2022-05-10  231000  240000  230500  239000   \n",
       "4697     030720       동원수산  2022-05-10   11550   12000   11300   11600   \n",
       "4698     282690      동아타이어  2022-05-10   12400   12600   12100   12550   \n",
       "4699     003280       흥아해운  2022-05-10    2770    2770    2535    2690   \n",
       "\n",
       "      volume  change   ACC_TRDVAL         MKTCAP  LIST_SHRS  \n",
       "0      44940 -0.0120    298878030   307622478150   46822295  \n",
       "1       1249  0.0026     24316750     6332142000     325560  \n",
       "2      92392  0.0000    301701785   316753186860   96866418  \n",
       "3     192750 -0.0066  11664325900  4430504298000   73231476  \n",
       "4        494 -0.0017     28640300    68730708000    1180940  \n",
       "...      ...     ...          ...            ...        ...  \n",
       "4695  401350  0.0117    379939268    44417186350   46754933  \n",
       "4696    5974  0.0170   1407594000   878956199000    3677641  \n",
       "4697  317927 -0.0043   3686219950    53984138000    4653805  \n",
       "4698   40862  0.0121    503978650   172349338250   13733015  \n",
       "4699  539634 -0.0271   1414486840   646742978310  240424899  \n",
       "\n",
       "[4700 rows x 12 columns]"
      ]
     },
     "execution_count": 9,
     "metadata": {},
     "output_type": "execute_result"
    }
   ],
   "source": [
    "pr_df"
   ]
  },
  {
   "cell_type": "code",
   "execution_count": 10,
   "id": "6d42dae5",
   "metadata": {
    "ExecuteTime": {
     "end_time": "2022-05-18T02:07:22.356164Z",
     "start_time": "2022-05-18T02:07:21.990459Z"
    }
   },
   "outputs": [],
   "source": [
    "pr_df.to_sql(name='kospi_unadj1',con=engine,if_exists='append',index=False,\n",
    "             dtype = { # sql에 저장할 때, 데이터 유형도 설정\n",
    "                 'stock_code' : sqlalchemy.types.VARCHAR(10),\n",
    "                 'stock_name' : sqlalchemy.types.TEXT(),\n",
    "                 'date' : sqlalchemy.types.DATE(),\n",
    "                 'open' : sqlalchemy.types.BIGINT(),\n",
    "                 'high' : sqlalchemy.types.BIGINT(),\n",
    "                 'low' : sqlalchemy.types.BIGINT(),\n",
    "                 'close' : sqlalchemy.types.BIGINT(),\n",
    "                 'volume' : sqlalchemy.types.BIGINT(),\n",
    "                 'change' : sqlalchemy.types.FLOAT(),\n",
    "                 'ACC_TRDVAL' : sqlalchemy.types.BIGINT(),\n",
    "                 'MKTCAP' : sqlalchemy.types.BIGINT(),\n",
    "                 'LIST_SHRS' : sqlalchemy.types.BIGINT()                 \n",
    "             }\n",
    "            )"
   ]
  },
  {
   "cell_type": "code",
   "execution_count": 11,
   "id": "e06c34da",
   "metadata": {
    "ExecuteTime": {
     "end_time": "2022-05-18T02:07:22.371499Z",
     "start_time": "2022-05-18T02:07:22.358669Z"
    }
   },
   "outputs": [],
   "source": [
    "# DB 접속 해제\n",
    "engine.dispose()\n",
    "#cur.close()\n",
    "#conn.close()"
   ]
  },
  {
   "attachments": {
    "image.png": {
     "image/png": "[encoded data removed]"
    }
   },
   "cell_type": "markdown",
   "id": "2415380d",
   "metadata": {},
   "source": [
    "![image.png](attachment:image.png)"
   ]
  }
 ],
 "metadata": {
  "hide_input": false,
  "kernelspec": {
   "display_name": "Python 3",
   "language": "python",
   "name": "python3"
  },
  "language_info": {
   "codemirror_mode": {
    "name": "ipython",
    "version": 3
   },
   "file_extension": ".py",
   "mimetype": "text/x-python",
   "name": "python",
   "nbconvert_exporter": "python",
   "pygments_lexer": "ipython3",
   "version": "3.8.8"
  },
  "toc": {
   "base_numbering": 1,
   "nav_menu": {},
   "number_sections": true,
   "sideBar": true,
   "skip_h1_title": false,
   "title_cell": "Table of Contents",
   "title_sidebar": "Contents",
   "toc_cell": false,
   "toc_position": {},
   "toc_section_display": true,
   "toc_window_display": false
  },
  "varInspector": {
   "cols": {
    "lenName": 16,
    "lenType": 16,
    "lenVar": 40
   },
   "kernels_config": {
    "python": {
     "delete_cmd_postfix": "",
     "delete_cmd_prefix": "del ",
     "library": "var_list.py",
     "varRefreshCmd": "print(var_dic_list())"
    },
    "r": {
     "delete_cmd_postfix": ") ",
     "delete_cmd_prefix": "rm(",
     "library": "var_list.r",
     "varRefreshCmd": "cat(var_dic_list()) "
    }
   },
   "types_to_exclude": [
    "module",
    "function",
    "builtin_function_or_method",
    "instance",
    "_Feature"
   ],
   "window_display": false
  }
 },
 "nbformat": 4,
 "nbformat_minor": 5
}
