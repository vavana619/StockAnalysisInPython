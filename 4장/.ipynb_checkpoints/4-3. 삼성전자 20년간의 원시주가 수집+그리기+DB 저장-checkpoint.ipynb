{
 "cells": [
  {
   "cell_type": "markdown",
   "id": "92ca91b8",
   "metadata": {},
   "source": [
    "# KRX 통계-주식-종목시세-개별종목 시세추이 에서 삼성전자 원시주가 수집"
   ]
  },
  {
   "cell_type": "code",
   "execution_count": 1,
   "id": "431f5918",
   "metadata": {
    "ExecuteTime": {
     "end_time": "2022-05-17T15:47:39.842490Z",
     "start_time": "2022-05-17T15:47:38.988049Z"
    }
   },
   "outputs": [],
   "source": [
    "import pandas as pd\n",
    "import numpy as np\n",
    "import time, json, requests \n",
    "from datetime import datetime, timedelta, date"
   ]
  },
  {
   "cell_type": "code",
   "execution_count": 2,
   "id": "8625ea73",
   "metadata": {
    "ExecuteTime": {
     "end_time": "2022-05-17T15:47:56.337491Z",
     "start_time": "2022-05-17T15:47:56.325631Z"
    }
   },
   "outputs": [],
   "source": [
    "headers = {\n",
    "    'User-Agent': 'Mozilla/5.0 (Windows NT 10.0; Win64; x64) \\\n",
    "    AppleWebKit/537.36 (KHTML, like Gecko) Chrome/71.0.3578.98\\\n",
    "    safari/537.36',\n",
    "    'X-Requested-With': 'XMLHttpRequest'\n",
    "}"
   ]
  },
  {
   "cell_type": "code",
   "execution_count": 3,
   "id": "db650505",
   "metadata": {
    "ExecuteTime": {
     "end_time": "2022-05-17T15:48:00.473989Z",
     "start_time": "2022-05-17T15:48:00.461894Z"
    }
   },
   "outputs": [],
   "source": [
    "url = 'http://data.krx.co.kr/comm/bldAttendant/getJsonData.cmd'"
   ]
  },
  {
   "cell_type": "code",
   "execution_count": 4,
   "id": "1533f589",
   "metadata": {
    "ExecuteTime": {
     "end_time": "2022-05-17T15:49:29.658828Z",
     "start_time": "2022-05-17T15:49:29.644528Z"
    }
   },
   "outputs": [],
   "source": [
    "p_data = {\n",
    "    'bld': 'dbms/MDC/STAT/standard/MDCSTAT01701',\n",
    "    'tboxisuCd_finder_stkisu0_1':'005930/삼성전자',\n",
    "    'isuCd': 'KR7005930003',\n",
    "    #'isuCd2': 'KR7005930003',\n",
    "    #'codeNmisuCd_finder_stkisu0_1': '삼성전자'\n",
    "    #'param1isuCd_finder_stkisu0_1': 'ALL'\n",
    "    'strtDd': '20000412',\n",
    "    'endDd': '20220420',\n",
    "    'share': '1',\n",
    "    'money': '1',\n",
    "    'csvxls_isNo': 'false'\n",
    "}"
   ]
  },
  {
   "cell_type": "code",
   "execution_count": 5,
   "id": "53fedf83",
   "metadata": {
    "ExecuteTime": {
     "end_time": "2022-05-17T15:49:55.566296Z",
     "start_time": "2022-05-17T15:49:49.596597Z"
    }
   },
   "outputs": [],
   "source": [
    "res = requests.post(url, headers=headers, data=p_data)"
   ]
  },
  {
   "cell_type": "code",
   "execution_count": 6,
   "id": "abaee97b",
   "metadata": {
    "ExecuteTime": {
     "end_time": "2022-05-17T15:49:56.981258Z",
     "start_time": "2022-05-17T15:49:56.918820Z"
    }
   },
   "outputs": [],
   "source": [
    "html_text = res.content\n",
    "html_json = json.loads(html_text)\n",
    "html_jsons = html_json['output']"
   ]
  },
  {
   "cell_type": "code",
   "execution_count": 7,
   "id": "9a80fa20",
   "metadata": {
    "ExecuteTime": {
     "end_time": "2022-05-17T15:50:02.977625Z",
     "start_time": "2022-05-17T15:50:02.958882Z"
    }
   },
   "outputs": [
    {
     "data": {
      "text/plain": [
       "{'TRD_DD': '2022/04/20',\n",
       " 'TDD_CLSPRC': '67,400',\n",
       " 'FLUC_TP_CD': '1',\n",
       " 'CMPPREVDD_PRC': '100',\n",
       " 'FLUC_RT': '0.15',\n",
       " 'TDD_OPNPRC': '67,000',\n",
       " 'TDD_HGPRC': '67,400',\n",
       " 'TDD_LWPRC': '66,500',\n",
       " 'ACC_TRDVOL': '16,693,293',\n",
       " 'ACC_TRDVAL': '1,116,160,503,800',\n",
       " 'MKTCAP': '402,363,343,870,000',\n",
       " 'LIST_SHRS': '5,969,782,550'}"
      ]
     },
     "execution_count": 7,
     "metadata": {},
     "output_type": "execute_result"
    }
   ],
   "source": [
    "html_jsons[0]"
   ]
  },
  {
   "cell_type": "code",
   "execution_count": 8,
   "id": "8610e87d",
   "metadata": {
    "ExecuteTime": {
     "end_time": "2022-05-17T15:50:51.760446Z",
     "start_time": "2022-05-17T15:50:51.656196Z"
    }
   },
   "outputs": [],
   "source": [
    "daily = []\n",
    "\n",
    "if len(html_jsons) > 0:\n",
    "    for html_json in html_jsons:\n",
    "        if html_json['TDD_OPNPRC'] == '-': # 시장이 열리지 않아 값이 없는 경우\n",
    "            continue\n",
    "\n",
    "        ISU_SRT_CD = '005930' # 크롤링 결과에 stock_code가 없기 때문에 미리 지정한 stock_code value를 별도로 입력\n",
    "        ISU_ABBRV = '삼성전자' # 마찬가지로 이미 '삼성전자'를 크롤링했기 때문에 해당 정보는 따로 없음. 직접 입력해야 함\n",
    "        TRD_DD = datetime.strptime(html_json['TRD_DD'], '%Y/%m/%d')\n",
    "\n",
    "        FLUC_RT = float(html_json['FLUC_RT'].replace(',',''))/100\n",
    "        TDD_CLSPRC = int(html_json['TDD_CLSPRC'].replace(',',''))\n",
    "        TDD_OPNPRC = int(html_json['TDD_OPNPRC'].replace(',',''))\n",
    "        TDD_HGPRC = int(html_json['TDD_HGPRC'].replace(',',''))\n",
    "        TDD_LWPRC = int(html_json['TDD_LWPRC'].replace(',',''))\n",
    "\n",
    "        ACC_TRDVOL = int(html_json['ACC_TRDVOL'].replace(',',''))\n",
    "        ACC_TRDVAL = int(html_json['ACC_TRDVAL'].replace(',',''))\n",
    "        MKTCAP = int(html_json['MKTCAP'].replace(',',''))\n",
    "        LIST_SHRS = int(html_json['LIST_SHRS'].replace(',',''))\n",
    "\n",
    "        daily.append((ISU_SRT_CD,ISU_ABBRV,TRD_DD,TDD_OPNPRC,TDD_HGPRC,TDD_LWPRC,TDD_CLSPRC,ACC_TRDVOL,FLUC_RT,ACC_TRDVAL,MKTCAP,LIST_SHRS))        \n",
    "else:\n",
    "    pass"
   ]
  },
  {
   "cell_type": "code",
   "execution_count": 9,
   "id": "88af763d",
   "metadata": {
    "ExecuteTime": {
     "end_time": "2022-05-17T15:50:55.291867Z",
     "start_time": "2022-05-17T15:50:55.284727Z"
    }
   },
   "outputs": [
    {
     "data": {
      "text/plain": [
       "[('005930',\n",
       "  '삼성전자',\n",
       "  datetime.datetime(2022, 4, 20, 0, 0),\n",
       "  67000,\n",
       "  67400,\n",
       "  66500,\n",
       "  67400,\n",
       "  16693293,\n",
       "  0.0015,\n",
       "  1116160503800,\n",
       "  402363343870000,\n",
       "  5969782550),\n",
       " ('005930',\n",
       "  '삼성전자',\n",
       "  datetime.datetime(2022, 4, 19, 0, 0),\n",
       "  67100,\n",
       "  68000,\n",
       "  67000,\n",
       "  67300,\n",
       "  12959434,\n",
       "  0.009000000000000001,\n",
       "  876087930051,\n",
       "  401766365615000,\n",
       "  5969782550)]"
      ]
     },
     "execution_count": 9,
     "metadata": {},
     "output_type": "execute_result"
    }
   ],
   "source": [
    "daily[0:2]"
   ]
  },
  {
   "cell_type": "code",
   "execution_count": 10,
   "id": "002403a1",
   "metadata": {
    "ExecuteTime": {
     "end_time": "2022-05-17T15:51:28.508339Z",
     "start_time": "2022-05-17T15:51:28.472711Z"
    }
   },
   "outputs": [],
   "source": [
    "if len(daily) > 0:\n",
    "    daily = pd.DataFrame(daily)\n",
    "    daily.columns = ['stock_code','stock_name','date','open','high','low','close','volume','change','ACC_TRDVAL','MKTCAP','LIST_SHRS']\n",
    "    daily = daily.sort_values(by='date').reset_index(drop=True)"
   ]
  },
  {
   "cell_type": "code",
   "execution_count": 11,
   "id": "f19f4f35",
   "metadata": {
    "ExecuteTime": {
     "end_time": "2022-05-17T15:51:32.760309Z",
     "start_time": "2022-05-17T15:51:32.727133Z"
    }
   },
   "outputs": [
    {
     "data": {
      "text/html": [
       "<div>\n",
       "<style scoped>\n",
       "    .dataframe tbody tr th:only-of-type {\n",
       "        vertical-align: middle;\n",
       "    }\n",
       "\n",
       "    .dataframe tbody tr th {\n",
       "        vertical-align: top;\n",
       "    }\n",
       "\n",
       "    .dataframe thead th {\n",
       "        text-align: right;\n",
       "    }\n",
       "</style>\n",
       "<table border=\"1\" class=\"dataframe\">\n",
       "  <thead>\n",
       "    <tr style=\"text-align: right;\">\n",
       "      <th></th>\n",
       "      <th>stock_code</th>\n",
       "      <th>stock_name</th>\n",
       "      <th>date</th>\n",
       "      <th>open</th>\n",
       "      <th>high</th>\n",
       "      <th>low</th>\n",
       "      <th>close</th>\n",
       "      <th>volume</th>\n",
       "      <th>change</th>\n",
       "      <th>ACC_TRDVAL</th>\n",
       "      <th>MKTCAP</th>\n",
       "      <th>LIST_SHRS</th>\n",
       "    </tr>\n",
       "  </thead>\n",
       "  <tbody>\n",
       "    <tr>\n",
       "      <th>0</th>\n",
       "      <td>005930</td>\n",
       "      <td>삼성전자</td>\n",
       "      <td>2000-04-12</td>\n",
       "      <td>348000</td>\n",
       "      <td>351500</td>\n",
       "      <td>343000</td>\n",
       "      <td>345500</td>\n",
       "      <td>705096</td>\n",
       "      <td>-0.0268</td>\n",
       "      <td>244481788000</td>\n",
       "      <td>51973265797000</td>\n",
       "      <td>150429134</td>\n",
       "    </tr>\n",
       "    <tr>\n",
       "      <th>1</th>\n",
       "      <td>005930</td>\n",
       "      <td>삼성전자</td>\n",
       "      <td>2000-04-14</td>\n",
       "      <td>330000</td>\n",
       "      <td>334000</td>\n",
       "      <td>313000</td>\n",
       "      <td>313000</td>\n",
       "      <td>1247397</td>\n",
       "      <td>-0.0941</td>\n",
       "      <td>400797681000</td>\n",
       "      <td>47084318942000</td>\n",
       "      <td>150429134</td>\n",
       "    </tr>\n",
       "    <tr>\n",
       "      <th>2</th>\n",
       "      <td>005930</td>\n",
       "      <td>삼성전자</td>\n",
       "      <td>2000-04-17</td>\n",
       "      <td>271000</td>\n",
       "      <td>287500</td>\n",
       "      <td>267000</td>\n",
       "      <td>276000</td>\n",
       "      <td>1561048</td>\n",
       "      <td>-0.1182</td>\n",
       "      <td>432231858000</td>\n",
       "      <td>41518440984000</td>\n",
       "      <td>150429134</td>\n",
       "    </tr>\n",
       "    <tr>\n",
       "      <th>3</th>\n",
       "      <td>005930</td>\n",
       "      <td>삼성전자</td>\n",
       "      <td>2000-04-18</td>\n",
       "      <td>310000</td>\n",
       "      <td>312000</td>\n",
       "      <td>293000</td>\n",
       "      <td>302000</td>\n",
       "      <td>1474625</td>\n",
       "      <td>0.0942</td>\n",
       "      <td>445144155000</td>\n",
       "      <td>45429598468000</td>\n",
       "      <td>150429134</td>\n",
       "    </tr>\n",
       "    <tr>\n",
       "      <th>4</th>\n",
       "      <td>005930</td>\n",
       "      <td>삼성전자</td>\n",
       "      <td>2000-04-19</td>\n",
       "      <td>315000</td>\n",
       "      <td>323000</td>\n",
       "      <td>293000</td>\n",
       "      <td>300000</td>\n",
       "      <td>1212342</td>\n",
       "      <td>-0.0066</td>\n",
       "      <td>377585060000</td>\n",
       "      <td>45128740200000</td>\n",
       "      <td>150429134</td>\n",
       "    </tr>\n",
       "  </tbody>\n",
       "</table>\n",
       "</div>"
      ],
      "text/plain": [
       "  stock_code stock_name       date    open    high     low   close   volume  \\\n",
       "0     005930       삼성전자 2000-04-12  348000  351500  343000  345500   705096   \n",
       "1     005930       삼성전자 2000-04-14  330000  334000  313000  313000  1247397   \n",
       "2     005930       삼성전자 2000-04-17  271000  287500  267000  276000  1561048   \n",
       "3     005930       삼성전자 2000-04-18  310000  312000  293000  302000  1474625   \n",
       "4     005930       삼성전자 2000-04-19  315000  323000  293000  300000  1212342   \n",
       "\n",
       "   change    ACC_TRDVAL          MKTCAP  LIST_SHRS  \n",
       "0 -0.0268  244481788000  51973265797000  150429134  \n",
       "1 -0.0941  400797681000  47084318942000  150429134  \n",
       "2 -0.1182  432231858000  41518440984000  150429134  \n",
       "3  0.0942  445144155000  45429598468000  150429134  \n",
       "4 -0.0066  377585060000  45128740200000  150429134  "
      ]
     },
     "execution_count": 11,
     "metadata": {},
     "output_type": "execute_result"
    }
   ],
   "source": [
    "daily.head()"
   ]
  },
  {
   "cell_type": "markdown",
   "id": "6b78548c",
   "metadata": {},
   "source": [
    "# 삼성전자 주가 그래프 그리기"
   ]
  },
  {
   "cell_type": "code",
   "execution_count": 12,
   "id": "b7cadf7f",
   "metadata": {
    "ExecuteTime": {
     "end_time": "2022-05-17T15:52:38.055320Z",
     "start_time": "2022-05-17T15:52:37.377452Z"
    }
   },
   "outputs": [],
   "source": [
    "import matplotlib.pyplot as plt"
   ]
  },
  {
   "cell_type": "code",
   "execution_count": 13,
   "id": "39283286",
   "metadata": {
    "ExecuteTime": {
     "end_time": "2022-05-17T15:52:54.830786Z",
     "start_time": "2022-05-17T15:52:54.477116Z"
    }
   },
   "outputs": [
    {
     "data": {
      "text/plain": [
       "<AxesSubplot:xlabel='date'>"
      ]
     },
     "execution_count": 13,
     "metadata": {},
     "output_type": "execute_result"
    },
    {
     "data": {
      "image/png": "[encoded data removed]",
      "text/plain": [
       "<Figure size 1152x432 with 1 Axes>"
      ]
     },
     "metadata": {
      "needs_background": "light"
     },
     "output_type": "display_data"
    }
   ],
   "source": [
    "daily.plot(x='date', y='close', figsize=(16,6))"
   ]
  },
  {
   "cell_type": "markdown",
   "id": "d42efa2d",
   "metadata": {},
   "source": [
    "# 삼성전자 주가 데이터 DB에 저장"
   ]
  },
  {
   "cell_type": "code",
   "execution_count": 14,
   "id": "4007d607",
   "metadata": {
    "ExecuteTime": {
     "end_time": "2022-05-17T15:53:29.547308Z",
     "start_time": "2022-05-17T15:53:29.137777Z"
    }
   },
   "outputs": [],
   "source": [
    "import pymysql # python에서 mysql을 사용하는 패키지\n",
    "\n",
    "import sqlalchemy # sql 접근 및 관리를 도와주는 패키지\n",
    "from sqlalchemy import create_engine"
   ]
  },
  {
   "cell_type": "code",
   "execution_count": 15,
   "id": "50cb18fe",
   "metadata": {
    "ExecuteTime": {
     "end_time": "2022-05-17T15:54:20.346598Z",
     "start_time": "2022-05-17T15:54:20.288091Z"
    }
   },
   "outputs": [],
   "source": [
    "server = '127.0.0.1' # local server\n",
    "user = 'root' # user name\n",
    "password = 'sandy9706' # 개인 password\n",
    "db = 'mydb_1' # DB 이름\n",
    "\n",
    "# sqlalchemy의 create_engine을 이용해 DB 연결\n",
    "engine = create_engine('mysql+pymysql://{}:{}@{}/{}?charset=utf8'.format(user,password,server,db))"
   ]
  },
  {
   "cell_type": "code",
   "execution_count": 16,
   "id": "0da52d89",
   "metadata": {
    "ExecuteTime": {
     "end_time": "2022-05-17T15:54:26.368798Z",
     "start_time": "2022-05-17T15:54:26.345448Z"
    }
   },
   "outputs": [
    {
     "data": {
      "text/html": [
       "<div>\n",
       "<style scoped>\n",
       "    .dataframe tbody tr th:only-of-type {\n",
       "        vertical-align: middle;\n",
       "    }\n",
       "\n",
       "    .dataframe tbody tr th {\n",
       "        vertical-align: top;\n",
       "    }\n",
       "\n",
       "    .dataframe thead th {\n",
       "        text-align: right;\n",
       "    }\n",
       "</style>\n",
       "<table border=\"1\" class=\"dataframe\">\n",
       "  <thead>\n",
       "    <tr style=\"text-align: right;\">\n",
       "      <th></th>\n",
       "      <th>stock_code</th>\n",
       "      <th>stock_name</th>\n",
       "      <th>date</th>\n",
       "      <th>open</th>\n",
       "      <th>high</th>\n",
       "      <th>low</th>\n",
       "      <th>close</th>\n",
       "      <th>volume</th>\n",
       "      <th>change</th>\n",
       "      <th>ACC_TRDVAL</th>\n",
       "      <th>MKTCAP</th>\n",
       "      <th>LIST_SHRS</th>\n",
       "    </tr>\n",
       "  </thead>\n",
       "  <tbody>\n",
       "    <tr>\n",
       "      <th>0</th>\n",
       "      <td>005930</td>\n",
       "      <td>삼성전자</td>\n",
       "      <td>2000-04-12</td>\n",
       "      <td>348000</td>\n",
       "      <td>351500</td>\n",
       "      <td>343000</td>\n",
       "      <td>345500</td>\n",
       "      <td>705096</td>\n",
       "      <td>-0.0268</td>\n",
       "      <td>244481788000</td>\n",
       "      <td>51973265797000</td>\n",
       "      <td>150429134</td>\n",
       "    </tr>\n",
       "    <tr>\n",
       "      <th>1</th>\n",
       "      <td>005930</td>\n",
       "      <td>삼성전자</td>\n",
       "      <td>2000-04-14</td>\n",
       "      <td>330000</td>\n",
       "      <td>334000</td>\n",
       "      <td>313000</td>\n",
       "      <td>313000</td>\n",
       "      <td>1247397</td>\n",
       "      <td>-0.0941</td>\n",
       "      <td>400797681000</td>\n",
       "      <td>47084318942000</td>\n",
       "      <td>150429134</td>\n",
       "    </tr>\n",
       "    <tr>\n",
       "      <th>2</th>\n",
       "      <td>005930</td>\n",
       "      <td>삼성전자</td>\n",
       "      <td>2000-04-17</td>\n",
       "      <td>271000</td>\n",
       "      <td>287500</td>\n",
       "      <td>267000</td>\n",
       "      <td>276000</td>\n",
       "      <td>1561048</td>\n",
       "      <td>-0.1182</td>\n",
       "      <td>432231858000</td>\n",
       "      <td>41518440984000</td>\n",
       "      <td>150429134</td>\n",
       "    </tr>\n",
       "    <tr>\n",
       "      <th>3</th>\n",
       "      <td>005930</td>\n",
       "      <td>삼성전자</td>\n",
       "      <td>2000-04-18</td>\n",
       "      <td>310000</td>\n",
       "      <td>312000</td>\n",
       "      <td>293000</td>\n",
       "      <td>302000</td>\n",
       "      <td>1474625</td>\n",
       "      <td>0.0942</td>\n",
       "      <td>445144155000</td>\n",
       "      <td>45429598468000</td>\n",
       "      <td>150429134</td>\n",
       "    </tr>\n",
       "    <tr>\n",
       "      <th>4</th>\n",
       "      <td>005930</td>\n",
       "      <td>삼성전자</td>\n",
       "      <td>2000-04-19</td>\n",
       "      <td>315000</td>\n",
       "      <td>323000</td>\n",
       "      <td>293000</td>\n",
       "      <td>300000</td>\n",
       "      <td>1212342</td>\n",
       "      <td>-0.0066</td>\n",
       "      <td>377585060000</td>\n",
       "      <td>45128740200000</td>\n",
       "      <td>150429134</td>\n",
       "    </tr>\n",
       "  </tbody>\n",
       "</table>\n",
       "</div>"
      ],
      "text/plain": [
       "  stock_code stock_name       date    open    high     low   close   volume  \\\n",
       "0     005930       삼성전자 2000-04-12  348000  351500  343000  345500   705096   \n",
       "1     005930       삼성전자 2000-04-14  330000  334000  313000  313000  1247397   \n",
       "2     005930       삼성전자 2000-04-17  271000  287500  267000  276000  1561048   \n",
       "3     005930       삼성전자 2000-04-18  310000  312000  293000  302000  1474625   \n",
       "4     005930       삼성전자 2000-04-19  315000  323000  293000  300000  1212342   \n",
       "\n",
       "   change    ACC_TRDVAL          MKTCAP  LIST_SHRS  \n",
       "0 -0.0268  244481788000  51973265797000  150429134  \n",
       "1 -0.0941  400797681000  47084318942000  150429134  \n",
       "2 -0.1182  432231858000  41518440984000  150429134  \n",
       "3  0.0942  445144155000  45429598468000  150429134  \n",
       "4 -0.0066  377585060000  45128740200000  150429134  "
      ]
     },
     "execution_count": 16,
     "metadata": {},
     "output_type": "execute_result"
    }
   ],
   "source": [
    "daily.head()"
   ]
  },
  {
   "cell_type": "code",
   "execution_count": 17,
   "id": "4e46e8a5",
   "metadata": {
    "ExecuteTime": {
     "end_time": "2022-05-17T15:55:12.220588Z",
     "start_time": "2022-05-17T15:55:12.209823Z"
    }
   },
   "outputs": [],
   "source": [
    "# DB 접속 해제\n",
    "engine.dispose()\n",
    "#cur.close()\n",
    "#conn.close()"
   ]
  },
  {
   "cell_type": "code",
   "execution_count": null,
   "id": "cb9cd8ee",
   "metadata": {},
   "outputs": [],
   "source": []
  }
 ],
 "metadata": {
  "hide_input": false,
  "kernelspec": {
   "display_name": "Python 3",
   "language": "python",
   "name": "python3"
  },
  "language_info": {
   "codemirror_mode": {
    "name": "ipython",
    "version": 3
   },
   "file_extension": ".py",
   "mimetype": "text/x-python",
   "name": "python",
   "nbconvert_exporter": "python",
   "pygments_lexer": "ipython3",
   "version": "3.8.8"
  },
  "toc": {
   "base_numbering": 1,
   "nav_menu": {},
   "number_sections": true,
   "sideBar": true,
   "skip_h1_title": false,
   "title_cell": "Table of Contents",
   "title_sidebar": "Contents",
   "toc_cell": false,
   "toc_position": {},
   "toc_section_display": true,
   "toc_window_display": false
  },
  "varInspector": {
   "cols": {
    "lenName": 16,
    "lenType": 16,
    "lenVar": 40
   },
   "kernels_config": {
    "python": {
     "delete_cmd_postfix": "",
     "delete_cmd_prefix": "del ",
     "library": "var_list.py",
     "varRefreshCmd": "print(var_dic_list())"
    },
    "r": {
     "delete_cmd_postfix": ") ",
     "delete_cmd_prefix": "rm(",
     "library": "var_list.r",
     "varRefreshCmd": "cat(var_dic_list()) "
    }
   },
   "types_to_exclude": [
    "module",
    "function",
    "builtin_function_or_method",
    "instance",
    "_Feature"
   ],
   "window_display": false
  }
 },
 "nbformat": 4,
 "nbformat_minor": 5
}
