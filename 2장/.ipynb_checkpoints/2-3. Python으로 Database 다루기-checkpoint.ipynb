{
 "cells": [
  {
   "cell_type": "code",
   "execution_count": 1,
   "id": "077c8cf4",
   "metadata": {
    "ExecuteTime": {
     "end_time": "2022-05-16T06:20:18.211741Z",
     "start_time": "2022-05-16T06:20:18.194747Z"
    }
   },
   "outputs": [],
   "source": [
    "Mypassword = 'sandy9706'"
   ]
  },
  {
   "cell_type": "code",
   "execution_count": 2,
   "id": "db8d1259",
   "metadata": {
    "ExecuteTime": {
     "end_time": "2022-05-16T06:20:24.313525Z",
     "start_time": "2022-05-16T06:20:23.989044Z"
    }
   },
   "outputs": [],
   "source": [
    "import pymysql"
   ]
  },
  {
   "cell_type": "code",
   "execution_count": 3,
   "id": "1474982c",
   "metadata": {
    "ExecuteTime": {
     "end_time": "2022-05-16T06:23:30.001442Z",
     "start_time": "2022-05-16T06:23:29.953475Z"
    }
   },
   "outputs": [],
   "source": [
    "# DB와의 통로 열음\n",
    "conn = pymysql.connect(host = 'localhost', port = 3306, db='mydb_1', user = 'root', passwd = Mypassword, autocommit = True)"
   ]
  },
  {
   "cell_type": "code",
   "execution_count": 5,
   "id": "db0ec07f",
   "metadata": {
    "ExecuteTime": {
     "end_time": "2022-05-16T06:24:27.476871Z",
     "start_time": "2022-05-16T06:24:27.467839Z"
    }
   },
   "outputs": [],
   "source": [
    "# 실행결과를 cursor에 담기\n",
    "cursor = conn.cursor()"
   ]
  },
  {
   "cell_type": "code",
   "execution_count": 6,
   "id": "736b6e43",
   "metadata": {
    "ExecuteTime": {
     "end_time": "2022-05-16T06:24:29.140496Z",
     "start_time": "2022-05-16T06:24:29.090365Z"
    }
   },
   "outputs": [
    {
     "data": {
      "text/plain": [
       "1"
      ]
     },
     "execution_count": 6,
     "metadata": {},
     "output_type": "execute_result"
    }
   ],
   "source": [
    "# DB version 번호 검사\n",
    "cursor.execute(\"SELECT VERSION();\")"
   ]
  },
  {
   "cell_type": "code",
   "execution_count": 7,
   "id": "0b82e0e4",
   "metadata": {
    "ExecuteTime": {
     "end_time": "2022-05-16T06:24:48.723315Z",
     "start_time": "2022-05-16T06:24:48.710951Z"
    }
   },
   "outputs": [],
   "source": [
    "# DB에서 가져온 결과 중 한 줄 가져오기\n",
    "rs = cursor.fetchone()"
   ]
  },
  {
   "cell_type": "code",
   "execution_count": 8,
   "id": "27866ec5",
   "metadata": {
    "ExecuteTime": {
     "end_time": "2022-05-16T06:25:07.348648Z",
     "start_time": "2022-05-16T06:25:07.329004Z"
    }
   },
   "outputs": [
    {
     "name": "stdout",
     "output_type": "stream",
     "text": [
      "MariaDB Version: ('10.6.7-MariaDB',)\n"
     ]
    }
   ],
   "source": [
    "# Version 번호 인쇄\n",
    "print(\"MariaDB Version: {}\".format(rs))"
   ]
  },
  {
   "cell_type": "code",
   "execution_count": 9,
   "id": "43b1d5a9",
   "metadata": {
    "ExecuteTime": {
     "end_time": "2022-05-16T06:25:30.643585Z",
     "start_time": "2022-05-16T06:25:30.636331Z"
    }
   },
   "outputs": [],
   "source": [
    "# sql 문장 정의\n",
    "sql1 = \"show tables\""
   ]
  },
  {
   "cell_type": "code",
   "execution_count": 10,
   "id": "e1042ff6",
   "metadata": {
    "ExecuteTime": {
     "end_time": "2022-05-16T06:25:36.240272Z",
     "start_time": "2022-05-16T06:25:36.223712Z"
    }
   },
   "outputs": [
    {
     "data": {
      "text/plain": [
       "4"
      ]
     },
     "execution_count": 10,
     "metadata": {},
     "output_type": "execute_result"
    }
   ],
   "source": [
    "# sql 문장 실행\n",
    "cursor.execute(sql1)"
   ]
  },
  {
   "cell_type": "code",
   "execution_count": 12,
   "id": "c3274810",
   "metadata": {
    "ExecuteTime": {
     "end_time": "2022-05-16T06:25:58.689913Z",
     "start_time": "2022-05-16T06:25:58.680594Z"
    }
   },
   "outputs": [
    {
     "name": "stdout",
     "output_type": "stream",
     "text": [
      "tables:  ('daily_price',)\n"
     ]
    }
   ],
   "source": [
    "rs = cursor.fetchone()\n",
    "print(\"tables: \", rs)"
   ]
  },
  {
   "cell_type": "code",
   "execution_count": null,
   "id": "2e992389",
   "metadata": {},
   "outputs": [],
   "source": []
  }
 ],
 "metadata": {
  "hide_input": false,
  "kernelspec": {
   "display_name": "Python 3",
   "language": "python",
   "name": "python3"
  },
  "language_info": {
   "codemirror_mode": {
    "name": "ipython",
    "version": 3
   },
   "file_extension": ".py",
   "mimetype": "text/x-python",
   "name": "python",
   "nbconvert_exporter": "python",
   "pygments_lexer": "ipython3",
   "version": "3.8.8"
  },
  "toc": {
   "base_numbering": 1,
   "nav_menu": {},
   "number_sections": true,
   "sideBar": true,
   "skip_h1_title": false,
   "title_cell": "Table of Contents",
   "title_sidebar": "Contents",
   "toc_cell": false,
   "toc_position": {},
   "toc_section_display": true,
   "toc_window_display": false
  },
  "varInspector": {
   "cols": {
    "lenName": 16,
    "lenType": 16,
    "lenVar": 40
   },
   "kernels_config": {
    "python": {
     "delete_cmd_postfix": "",
     "delete_cmd_prefix": "del ",
     "library": "var_list.py",
     "varRefreshCmd": "print(var_dic_list())"
    },
    "r": {
     "delete_cmd_postfix": ") ",
     "delete_cmd_prefix": "rm(",
     "library": "var_list.r",
     "varRefreshCmd": "cat(var_dic_list()) "
    }
   },
   "types_to_exclude": [
    "module",
    "function",
    "builtin_function_or_method",
    "instance",
    "_Feature"
   ],
   "window_display": false
  }
 },
 "nbformat": 4,
 "nbformat_minor": 5
}
