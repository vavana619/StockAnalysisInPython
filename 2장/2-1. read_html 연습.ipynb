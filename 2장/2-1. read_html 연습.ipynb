{
 "cells": [
  {
   "cell_type": "code",
   "execution_count": 1,
   "id": "0239a93e",
   "metadata": {
    "ExecuteTime": {
     "end_time": "2022-05-16T05:50:34.100515Z",
     "start_time": "2022-05-16T05:50:32.304513Z"
    }
   },
   "outputs": [],
   "source": [
    "import pandas as pd"
   ]
  },
  {
   "cell_type": "code",
   "execution_count": 2,
   "id": "f96f99f8",
   "metadata": {
    "ExecuteTime": {
     "end_time": "2022-05-16T05:51:25.726216Z",
     "start_time": "2022-05-16T05:51:24.364321Z"
    }
   },
   "outputs": [
    {
     "data": {
      "text/plain": [
       "list"
      ]
     },
     "execution_count": 2,
     "metadata": {},
     "output_type": "execute_result"
    }
   ],
   "source": [
    "table = pd.read_html('https://mizykk.tistory.com/39', header=0, encoding='utf-8')\n",
    "type(table)"
   ]
  },
  {
   "cell_type": "code",
   "execution_count": 3,
   "id": "17e7a5c5",
   "metadata": {
    "ExecuteTime": {
     "end_time": "2022-05-16T05:51:27.813357Z",
     "start_time": "2022-05-16T05:51:27.775126Z"
    }
   },
   "outputs": [
    {
     "data": {
      "text/plain": [
       "[    과일  색상     가격\n",
       " 0   사과  빨강  1500원\n",
       " 1   사과  초록  1000원\n",
       " 2  바나나  노랑  3000원\n",
       " 3  바나나  초록  2000원,\n",
       "      국가   도시     언어\n",
       " 0    한국   서울    한국어\n",
       " 1    미국   뉴욕     영어\n",
       " 2  이탈리아  피렌체  이탈리아어\n",
       " 3   프랑스   파리     불어,\n",
       "   한국어        영어\n",
       " 0  1월   January\n",
       " 1  2월  Feburary\n",
       " 2  3월     March,\n",
       "               [Python] 리스트 정렬하기 :: sort / sorted (0)  2021.02.10\n",
       " 0    [Python] 영문 > 한글 키보드 입력 변환하기 :: 자모결합 / 자소결합 (0)  2021.01.29\n",
       " 1  [Python] for문(반복문) 진행상황 표시 :: tqdm / tqdm_note...  2021.01.28\n",
       " 2  [Python] has no attribute 'compat' (most likel...  2020.10.05\n",
       " 3                               pd.read_table 예제 (0)  2020.03.31\n",
       " 4               [Python] 위경도 거리 구하기 :: haversine (1)  2020.01.28]"
      ]
     },
     "execution_count": 3,
     "metadata": {},
     "output_type": "execute_result"
    }
   ],
   "source": [
    "table"
   ]
  },
  {
   "cell_type": "code",
   "execution_count": 4,
   "id": "d4e123e9",
   "metadata": {
    "ExecuteTime": {
     "end_time": "2022-05-16T05:51:40.737342Z",
     "start_time": "2022-05-16T05:51:40.720930Z"
    }
   },
   "outputs": [
    {
     "data": {
      "text/plain": [
       "4"
      ]
     },
     "execution_count": 4,
     "metadata": {},
     "output_type": "execute_result"
    }
   ],
   "source": [
    "len(table)"
   ]
  },
  {
   "cell_type": "code",
   "execution_count": 5,
   "id": "ae48fd9d",
   "metadata": {
    "ExecuteTime": {
     "end_time": "2022-05-16T05:52:35.118807Z",
     "start_time": "2022-05-16T05:52:34.807218Z"
    }
   },
   "outputs": [
    {
     "data": {
      "text/html": [
       "<div>\n",
       "<style scoped>\n",
       "    .dataframe tbody tr th:only-of-type {\n",
       "        vertical-align: middle;\n",
       "    }\n",
       "\n",
       "    .dataframe tbody tr th {\n",
       "        vertical-align: top;\n",
       "    }\n",
       "\n",
       "    .dataframe thead th {\n",
       "        text-align: right;\n",
       "    }\n",
       "</style>\n",
       "<table border=\"1\" class=\"dataframe\">\n",
       "  <thead>\n",
       "    <tr style=\"text-align: right;\">\n",
       "      <th></th>\n",
       "      <th>과일</th>\n",
       "      <th>색상</th>\n",
       "      <th>가격</th>\n",
       "    </tr>\n",
       "  </thead>\n",
       "  <tbody>\n",
       "    <tr>\n",
       "      <th>0</th>\n",
       "      <td>사과</td>\n",
       "      <td>빨강</td>\n",
       "      <td>1500원</td>\n",
       "    </tr>\n",
       "    <tr>\n",
       "      <th>1</th>\n",
       "      <td>사과</td>\n",
       "      <td>초록</td>\n",
       "      <td>1000원</td>\n",
       "    </tr>\n",
       "    <tr>\n",
       "      <th>2</th>\n",
       "      <td>바나나</td>\n",
       "      <td>노랑</td>\n",
       "      <td>3000원</td>\n",
       "    </tr>\n",
       "    <tr>\n",
       "      <th>3</th>\n",
       "      <td>바나나</td>\n",
       "      <td>초록</td>\n",
       "      <td>2000원</td>\n",
       "    </tr>\n",
       "  </tbody>\n",
       "</table>\n",
       "</div>"
      ],
      "text/plain": [
       "    과일  색상     가격\n",
       "0   사과  빨강  1500원\n",
       "1   사과  초록  1000원\n",
       "2  바나나  노랑  3000원\n",
       "3  바나나  초록  2000원"
      ]
     },
     "execution_count": 5,
     "metadata": {},
     "output_type": "execute_result"
    }
   ],
   "source": [
    "table0 = pd.read_html('https://mizykk.tistory.com/39', header=0, encoding='utf-8')[0]\n",
    "table0"
   ]
  },
  {
   "cell_type": "code",
   "execution_count": 6,
   "id": "e5e73c83",
   "metadata": {
    "ExecuteTime": {
     "end_time": "2022-05-16T05:52:47.379676Z",
     "start_time": "2022-05-16T05:52:47.084109Z"
    }
   },
   "outputs": [
    {
     "data": {
      "text/html": [
       "<div>\n",
       "<style scoped>\n",
       "    .dataframe tbody tr th:only-of-type {\n",
       "        vertical-align: middle;\n",
       "    }\n",
       "\n",
       "    .dataframe tbody tr th {\n",
       "        vertical-align: top;\n",
       "    }\n",
       "\n",
       "    .dataframe thead th {\n",
       "        text-align: right;\n",
       "    }\n",
       "</style>\n",
       "<table border=\"1\" class=\"dataframe\">\n",
       "  <thead>\n",
       "    <tr style=\"text-align: right;\">\n",
       "      <th></th>\n",
       "      <th>국가</th>\n",
       "      <th>도시</th>\n",
       "      <th>언어</th>\n",
       "    </tr>\n",
       "  </thead>\n",
       "  <tbody>\n",
       "    <tr>\n",
       "      <th>0</th>\n",
       "      <td>한국</td>\n",
       "      <td>서울</td>\n",
       "      <td>한국어</td>\n",
       "    </tr>\n",
       "    <tr>\n",
       "      <th>1</th>\n",
       "      <td>미국</td>\n",
       "      <td>뉴욕</td>\n",
       "      <td>영어</td>\n",
       "    </tr>\n",
       "    <tr>\n",
       "      <th>2</th>\n",
       "      <td>이탈리아</td>\n",
       "      <td>피렌체</td>\n",
       "      <td>이탈리아어</td>\n",
       "    </tr>\n",
       "    <tr>\n",
       "      <th>3</th>\n",
       "      <td>프랑스</td>\n",
       "      <td>파리</td>\n",
       "      <td>불어</td>\n",
       "    </tr>\n",
       "  </tbody>\n",
       "</table>\n",
       "</div>"
      ],
      "text/plain": [
       "     국가   도시     언어\n",
       "0    한국   서울    한국어\n",
       "1    미국   뉴욕     영어\n",
       "2  이탈리아  피렌체  이탈리아어\n",
       "3   프랑스   파리     불어"
      ]
     },
     "execution_count": 6,
     "metadata": {},
     "output_type": "execute_result"
    }
   ],
   "source": [
    "table1 = pd.read_html('https://mizykk.tistory.com/39', header=0, encoding='utf-8')[1]\n",
    "table1"
   ]
  },
  {
   "cell_type": "code",
   "execution_count": 7,
   "id": "523c57b5",
   "metadata": {
    "ExecuteTime": {
     "end_time": "2022-05-16T05:53:03.087327Z",
     "start_time": "2022-05-16T05:53:02.551365Z"
    }
   },
   "outputs": [
    {
     "data": {
      "text/html": [
       "<div>\n",
       "<style scoped>\n",
       "    .dataframe tbody tr th:only-of-type {\n",
       "        vertical-align: middle;\n",
       "    }\n",
       "\n",
       "    .dataframe tbody tr th {\n",
       "        vertical-align: top;\n",
       "    }\n",
       "\n",
       "    .dataframe thead th {\n",
       "        text-align: right;\n",
       "    }\n",
       "</style>\n",
       "<table border=\"1\" class=\"dataframe\">\n",
       "  <thead>\n",
       "    <tr style=\"text-align: right;\">\n",
       "      <th></th>\n",
       "      <th>한국어</th>\n",
       "      <th>영어</th>\n",
       "    </tr>\n",
       "  </thead>\n",
       "  <tbody>\n",
       "    <tr>\n",
       "      <th>0</th>\n",
       "      <td>1월</td>\n",
       "      <td>January</td>\n",
       "    </tr>\n",
       "    <tr>\n",
       "      <th>1</th>\n",
       "      <td>2월</td>\n",
       "      <td>Feburary</td>\n",
       "    </tr>\n",
       "    <tr>\n",
       "      <th>2</th>\n",
       "      <td>3월</td>\n",
       "      <td>March</td>\n",
       "    </tr>\n",
       "  </tbody>\n",
       "</table>\n",
       "</div>"
      ],
      "text/plain": [
       "  한국어        영어\n",
       "0  1월   January\n",
       "1  2월  Feburary\n",
       "2  3월     March"
      ]
     },
     "execution_count": 7,
     "metadata": {},
     "output_type": "execute_result"
    }
   ],
   "source": [
    "table2 = pd.read_html('https://mizykk.tistory.com/39', header=0, encoding='utf-8')[2]\n",
    "table2"
   ]
  },
  {
   "cell_type": "code",
   "execution_count": 8,
   "id": "9074d8d9",
   "metadata": {
    "ExecuteTime": {
     "end_time": "2022-05-16T05:53:11.506579Z",
     "start_time": "2022-05-16T05:53:11.149134Z"
    }
   },
   "outputs": [
    {
     "data": {
      "text/html": [
       "<div>\n",
       "<style scoped>\n",
       "    .dataframe tbody tr th:only-of-type {\n",
       "        vertical-align: middle;\n",
       "    }\n",
       "\n",
       "    .dataframe tbody tr th {\n",
       "        vertical-align: top;\n",
       "    }\n",
       "\n",
       "    .dataframe thead th {\n",
       "        text-align: right;\n",
       "    }\n",
       "</style>\n",
       "<table border=\"1\" class=\"dataframe\">\n",
       "  <thead>\n",
       "    <tr style=\"text-align: right;\">\n",
       "      <th></th>\n",
       "      <th>[Python] 리스트 정렬하기 :: sort / sorted (0)</th>\n",
       "      <th>2021.02.10</th>\n",
       "    </tr>\n",
       "  </thead>\n",
       "  <tbody>\n",
       "    <tr>\n",
       "      <th>0</th>\n",
       "      <td>[Python] 영문 &gt; 한글 키보드 입력 변환하기 :: 자모결합 / 자소결합 (0)</td>\n",
       "      <td>2021.01.29</td>\n",
       "    </tr>\n",
       "    <tr>\n",
       "      <th>1</th>\n",
       "      <td>[Python] for문(반복문) 진행상황 표시 :: tqdm / tqdm_note...</td>\n",
       "      <td>2021.01.28</td>\n",
       "    </tr>\n",
       "    <tr>\n",
       "      <th>2</th>\n",
       "      <td>[Python] has no attribute 'compat' (most likel...</td>\n",
       "      <td>2020.10.05</td>\n",
       "    </tr>\n",
       "    <tr>\n",
       "      <th>3</th>\n",
       "      <td>pd.read_table 예제 (0)</td>\n",
       "      <td>2020.03.31</td>\n",
       "    </tr>\n",
       "    <tr>\n",
       "      <th>4</th>\n",
       "      <td>[Python] 위경도 거리 구하기 :: haversine (1)</td>\n",
       "      <td>2020.01.28</td>\n",
       "    </tr>\n",
       "  </tbody>\n",
       "</table>\n",
       "</div>"
      ],
      "text/plain": [
       "              [Python] 리스트 정렬하기 :: sort / sorted (0)  2021.02.10\n",
       "0    [Python] 영문 > 한글 키보드 입력 변환하기 :: 자모결합 / 자소결합 (0)  2021.01.29\n",
       "1  [Python] for문(반복문) 진행상황 표시 :: tqdm / tqdm_note...  2021.01.28\n",
       "2  [Python] has no attribute 'compat' (most likel...  2020.10.05\n",
       "3                               pd.read_table 예제 (0)  2020.03.31\n",
       "4               [Python] 위경도 거리 구하기 :: haversine (1)  2020.01.28"
      ]
     },
     "execution_count": 8,
     "metadata": {},
     "output_type": "execute_result"
    }
   ],
   "source": [
    "table3 = pd.read_html('https://mizykk.tistory.com/39', header=0, encoding='utf-8')[3]\n",
    "table3"
   ]
  }
 ],
 "metadata": {
  "hide_input": false,
  "kernelspec": {
   "display_name": "Python 3",
   "language": "python",
   "name": "python3"
  },
  "language_info": {
   "codemirror_mode": {
    "name": "ipython",
    "version": 3
   },
   "file_extension": ".py",
   "mimetype": "text/x-python",
   "name": "python",
   "nbconvert_exporter": "python",
   "pygments_lexer": "ipython3",
   "version": "3.8.8"
  },
  "toc": {
   "base_numbering": 1,
   "nav_menu": {},
   "number_sections": true,
   "sideBar": true,
   "skip_h1_title": false,
   "title_cell": "Table of Contents",
   "title_sidebar": "Contents",
   "toc_cell": false,
   "toc_position": {},
   "toc_section_display": true,
   "toc_window_display": false
  },
  "varInspector": {
   "cols": {
    "lenName": 16,
    "lenType": 16,
    "lenVar": 40
   },
   "kernels_config": {
    "python": {
     "delete_cmd_postfix": "",
     "delete_cmd_prefix": "del ",
     "library": "var_list.py",
     "varRefreshCmd": "print(var_dic_list())"
    },
    "r": {
     "delete_cmd_postfix": ") ",
     "delete_cmd_prefix": "rm(",
     "library": "var_list.r",
     "varRefreshCmd": "cat(var_dic_list()) "
    }
   },
   "types_to_exclude": [
    "module",
    "function",
    "builtin_function_or_method",
    "instance",
    "_Feature"
   ],
   "window_display": false
  }
 },
 "nbformat": 4,
 "nbformat_minor": 5
}
