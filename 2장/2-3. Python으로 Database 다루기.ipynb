{
 "cells": [
  {
   "cell_type": "code",
   "execution_count": 52,
   "id": "4dab7b5a",
   "metadata": {
    "ExecuteTime": {
     "end_time": "2022-05-16T06:38:42.611171Z",
     "start_time": "2022-05-16T06:38:42.601989Z"
    }
   },
   "outputs": [],
   "source": [
    "Mypassword = 'sandy9706'"
   ]
  },
  {
   "cell_type": "code",
   "execution_count": 53,
   "id": "ecd2fdcd",
   "metadata": {
    "ExecuteTime": {
     "end_time": "2022-05-16T06:38:42.626281Z",
     "start_time": "2022-05-16T06:38:42.616920Z"
    }
   },
   "outputs": [],
   "source": [
    "import pymysql"
   ]
  },
  {
   "cell_type": "code",
   "execution_count": 54,
   "id": "2c99fff8",
   "metadata": {
    "ExecuteTime": {
     "end_time": "2022-05-16T06:38:42.656824Z",
     "start_time": "2022-05-16T06:38:42.632337Z"
    }
   },
   "outputs": [],
   "source": [
    "# DB와의 통로 열음\n",
    "conn = pymysql.connect(host = 'localhost', port = 3306, db='mydb_1', user = 'root', passwd = Mypassword, autocommit = True)"
   ]
  },
  {
   "cell_type": "code",
   "execution_count": 55,
   "id": "c208d398",
   "metadata": {
    "ExecuteTime": {
     "end_time": "2022-05-16T06:38:42.672254Z",
     "start_time": "2022-05-16T06:38:42.662493Z"
    }
   },
   "outputs": [],
   "source": [
    "# 실행결과를 cursor에 담기\n",
    "cursor = conn.cursor()"
   ]
  },
  {
   "cell_type": "code",
   "execution_count": 56,
   "id": "f039b5fd",
   "metadata": {
    "ExecuteTime": {
     "end_time": "2022-05-16T06:38:42.702560Z",
     "start_time": "2022-05-16T06:38:42.677965Z"
    }
   },
   "outputs": [
    {
     "data": {
      "text/plain": [
       "1"
      ]
     },
     "execution_count": 56,
     "metadata": {},
     "output_type": "execute_result"
    }
   ],
   "source": [
    "# DB version 번호 검사\n",
    "cursor.execute(\"SELECT VERSION();\")"
   ]
  },
  {
   "cell_type": "code",
   "execution_count": 57,
   "id": "f603b083",
   "metadata": {
    "ExecuteTime": {
     "end_time": "2022-05-16T06:38:42.718188Z",
     "start_time": "2022-05-16T06:38:42.706561Z"
    }
   },
   "outputs": [],
   "source": [
    "# DB에서 가져온 결과 중 한 줄 가져오기\n",
    "rs = cursor.fetchone()"
   ]
  },
  {
   "cell_type": "code",
   "execution_count": 58,
   "id": "aa8034ba",
   "metadata": {
    "ExecuteTime": {
     "end_time": "2022-05-16T06:38:42.733342Z",
     "start_time": "2022-05-16T06:38:42.722872Z"
    }
   },
   "outputs": [
    {
     "name": "stdout",
     "output_type": "stream",
     "text": [
      "MariaDB Version: ('10.6.7-MariaDB',)\n"
     ]
    }
   ],
   "source": [
    "# Version 번호 인쇄\n",
    "print(\"MariaDB Version: {}\".format(rs))"
   ]
  },
  {
   "cell_type": "code",
   "execution_count": 59,
   "id": "587d6440",
   "metadata": {
    "ExecuteTime": {
     "end_time": "2022-05-16T06:38:42.748121Z",
     "start_time": "2022-05-16T06:38:42.736724Z"
    }
   },
   "outputs": [],
   "source": [
    "# sql 문장 정의\n",
    "sql1 = \"show tables\""
   ]
  },
  {
   "cell_type": "code",
   "execution_count": 60,
   "id": "c5298bfe",
   "metadata": {
    "ExecuteTime": {
     "end_time": "2022-05-16T06:38:42.779076Z",
     "start_time": "2022-05-16T06:38:42.758082Z"
    }
   },
   "outputs": [
    {
     "data": {
      "text/plain": [
       "4"
      ]
     },
     "execution_count": 60,
     "metadata": {},
     "output_type": "execute_result"
    }
   ],
   "source": [
    "# sql 문장 실행\n",
    "cursor.execute(sql1)"
   ]
  },
  {
   "cell_type": "code",
   "execution_count": 61,
   "id": "31a77f75",
   "metadata": {
    "ExecuteTime": {
     "end_time": "2022-05-16T06:38:42.794373Z",
     "start_time": "2022-05-16T06:38:42.785100Z"
    }
   },
   "outputs": [
    {
     "name": "stdout",
     "output_type": "stream",
     "text": [
      "tables:  ('company_info',)\n"
     ]
    }
   ],
   "source": [
    "rs = cursor.fetchone()\n",
    "print(\"tables: \", rs)"
   ]
  },
  {
   "cell_type": "markdown",
   "id": "95c20f16",
   "metadata": {},
   "source": [
    "company_info 테이블 내의 데이터 읽어오기"
   ]
  },
  {
   "cell_type": "code",
   "execution_count": 62,
   "id": "b9a97137",
   "metadata": {
    "ExecuteTime": {
     "end_time": "2022-05-16T06:38:42.809999Z",
     "start_time": "2022-05-16T06:38:42.799340Z"
    }
   },
   "outputs": [],
   "source": [
    "sql2 = \"select * from company_info\""
   ]
  },
  {
   "cell_type": "code",
   "execution_count": 63,
   "id": "67f05d6c",
   "metadata": {
    "ExecuteTime": {
     "end_time": "2022-05-16T06:38:42.948009Z",
     "start_time": "2022-05-16T06:38:42.815324Z"
    }
   },
   "outputs": [
    {
     "data": {
      "text/plain": [
       "2500"
      ]
     },
     "execution_count": 63,
     "metadata": {},
     "output_type": "execute_result"
    }
   ],
   "source": [
    "cursor.execute(sql2)"
   ]
  },
  {
   "cell_type": "code",
   "execution_count": 64,
   "id": "3d1aba01",
   "metadata": {
    "ExecuteTime": {
     "end_time": "2022-05-16T06:38:42.978162Z",
     "start_time": "2022-05-16T06:38:42.952014Z"
    }
   },
   "outputs": [
    {
     "data": {
      "text/plain": [
       "('000020', '동화약품', datetime.date(2022, 5, 16))"
      ]
     },
     "execution_count": 64,
     "metadata": {},
     "output_type": "execute_result"
    }
   ],
   "source": [
    "rs = cursor.fetchone() # 첫 번째 종목 정보 출력\n",
    "rs"
   ]
  },
  {
   "cell_type": "markdown",
   "id": "2ed96eb0",
   "metadata": {},
   "source": [
    "company_info 테이블 내용 모두 삭제"
   ]
  },
  {
   "cell_type": "code",
   "execution_count": 65,
   "id": "cf7691d4",
   "metadata": {
    "ExecuteTime": {
     "end_time": "2022-05-16T06:38:43.024894Z",
     "start_time": "2022-05-16T06:38:42.983679Z"
    }
   },
   "outputs": [
    {
     "data": {
      "text/plain": [
       "2500"
      ]
     },
     "execution_count": 65,
     "metadata": {},
     "output_type": "execute_result"
    }
   ],
   "source": [
    "sql_delete_all = \"delete from company_info\"\n",
    "cursor.execute(sql_delete_all)"
   ]
  },
  {
   "cell_type": "code",
   "execution_count": 66,
   "id": "54089d72",
   "metadata": {
    "ExecuteTime": {
     "end_time": "2022-05-16T06:38:43.040107Z",
     "start_time": "2022-05-16T06:38:43.031114Z"
    }
   },
   "outputs": [],
   "source": [
    "rs = cursor.fetchone() # 첫 번째 종목 정보 출력\n",
    "rs"
   ]
  },
  {
   "cell_type": "code",
   "execution_count": 67,
   "id": "44030e88",
   "metadata": {
    "ExecuteTime": {
     "end_time": "2022-05-16T06:38:43.070206Z",
     "start_time": "2022-05-16T06:38:43.046966Z"
    }
   },
   "outputs": [
    {
     "data": {
      "text/plain": [
       "0"
      ]
     },
     "execution_count": 67,
     "metadata": {},
     "output_type": "execute_result"
    }
   ],
   "source": [
    "sql_drop_table =\"drop table company_info\"\n",
    "cursor.execute(sql_drop_table)"
   ]
  },
  {
   "cell_type": "code",
   "execution_count": 68,
   "id": "b013af96",
   "metadata": {
    "ExecuteTime": {
     "end_time": "2022-05-16T06:38:43.085221Z",
     "start_time": "2022-05-16T06:38:43.075217Z"
    }
   },
   "outputs": [
    {
     "name": "stdout",
     "output_type": "stream",
     "text": [
      "None\n"
     ]
    }
   ],
   "source": [
    "rs = cursor.fetchone()\n",
    "print(rs)"
   ]
  },
  {
   "cell_type": "code",
   "execution_count": 69,
   "id": "d09d4c94",
   "metadata": {
    "ExecuteTime": {
     "end_time": "2022-05-16T06:38:43.100594Z",
     "start_time": "2022-05-16T06:38:43.091511Z"
    }
   },
   "outputs": [],
   "source": [
    "sql_create_table =\"\"\"\n",
    "CREATE TABLE if not exists company_info (\n",
    "    code VARCHAR(20),\n",
    "    company VARCHAR(40),\n",
    "    last_update DATE,\n",
    "    PRIMARY KEY (code)\n",
    "  );\n",
    " \"\"\""
   ]
  },
  {
   "cell_type": "code",
   "execution_count": 70,
   "id": "f666b915",
   "metadata": {
    "ExecuteTime": {
     "end_time": "2022-05-16T06:38:43.131295Z",
     "start_time": "2022-05-16T06:38:43.105450Z"
    }
   },
   "outputs": [
    {
     "data": {
      "text/plain": [
       "0"
      ]
     },
     "execution_count": 70,
     "metadata": {},
     "output_type": "execute_result"
    }
   ],
   "source": [
    "cursor.execute(sql_create_table)"
   ]
  },
  {
   "cell_type": "code",
   "execution_count": 71,
   "id": "24149f12",
   "metadata": {
    "ExecuteTime": {
     "end_time": "2022-05-16T06:38:43.147271Z",
     "start_time": "2022-05-16T06:38:43.134581Z"
    }
   },
   "outputs": [
    {
     "data": {
      "text/plain": [
       "4"
      ]
     },
     "execution_count": 71,
     "metadata": {},
     "output_type": "execute_result"
    }
   ],
   "source": [
    "sql1 = \"show tables\"\n",
    "cursor.execute(sql1)"
   ]
  },
  {
   "cell_type": "code",
   "execution_count": 72,
   "id": "4efcb920",
   "metadata": {
    "ExecuteTime": {
     "end_time": "2022-05-16T06:38:43.163084Z",
     "start_time": "2022-05-16T06:38:43.151135Z"
    }
   },
   "outputs": [
    {
     "name": "stdout",
     "output_type": "stream",
     "text": [
      "tables:  ('company_info',)\n"
     ]
    }
   ],
   "source": [
    "rs = cursor.fetchone()\n",
    "print(\"tables: \", rs)"
   ]
  },
  {
   "cell_type": "code",
   "execution_count": 73,
   "id": "7b5eaaa9",
   "metadata": {
    "ExecuteTime": {
     "end_time": "2022-05-16T06:38:43.177220Z",
     "start_time": "2022-05-16T06:38:43.167870Z"
    }
   },
   "outputs": [],
   "source": [
    "conn.close()"
   ]
  },
  {
   "cell_type": "code",
   "execution_count": null,
   "id": "22874a28",
   "metadata": {},
   "outputs": [],
   "source": []
  }
 ],
 "metadata": {
  "hide_input": false,
  "kernelspec": {
   "display_name": "Python 3",
   "language": "python",
   "name": "python3"
  },
  "language_info": {
   "codemirror_mode": {
    "name": "ipython",
    "version": 3
   },
   "file_extension": ".py",
   "mimetype": "text/x-python",
   "name": "python",
   "nbconvert_exporter": "python",
   "pygments_lexer": "ipython3",
   "version": "3.8.8"
  },
  "toc": {
   "base_numbering": 1,
   "nav_menu": {},
   "number_sections": true,
   "sideBar": true,
   "skip_h1_title": false,
   "title_cell": "Table of Contents",
   "title_sidebar": "Contents",
   "toc_cell": false,
   "toc_position": {},
   "toc_section_display": true,
   "toc_window_display": false
  },
  "varInspector": {
   "cols": {
    "lenName": 16,
    "lenType": 16,
    "lenVar": 40
   },
   "kernels_config": {
    "python": {
     "delete_cmd_postfix": "",
     "delete_cmd_prefix": "del ",
     "library": "var_list.py",
     "varRefreshCmd": "print(var_dic_list())"
    },
    "r": {
     "delete_cmd_postfix": ") ",
     "delete_cmd_prefix": "rm(",
     "library": "var_list.r",
     "varRefreshCmd": "cat(var_dic_list()) "
    }
   },
   "types_to_exclude": [
    "module",
    "function",
    "builtin_function_or_method",
    "instance",
    "_Feature"
   ],
   "window_display": false
  }
 },
 "nbformat": 4,
 "nbformat_minor": 5
}
