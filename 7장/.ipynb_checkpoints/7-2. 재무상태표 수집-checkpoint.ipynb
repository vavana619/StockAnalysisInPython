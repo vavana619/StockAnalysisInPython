{
 "cells": [
  {
   "cell_type": "code",
   "execution_count": 1,
   "id": "f0760316",
   "metadata": {
    "ExecuteTime": {
     "end_time": "2022-05-18T15:42:40.447837Z",
     "start_time": "2022-05-18T15:42:39.537845Z"
    }
   },
   "outputs": [],
   "source": [
    "# 1. 필요한 라이브러리 불러오기 및 종목코드(stock_code)와 재무제표 종류(rpt_type) 설정\n",
    "import pandas as pd\n",
    "import numpy as np\n",
    "from bs4 import BeautifulSoup\n",
    "from urllib.request import urlopen, Request"
   ]
  },
  {
   "cell_type": "code",
   "execution_count": 14,
   "id": "439b546b",
   "metadata": {
    "ExecuteTime": {
     "end_time": "2022-05-18T16:07:47.494057Z",
     "start_time": "2022-05-18T16:07:47.480957Z"
    }
   },
   "outputs": [],
   "source": [
    "# 2. 손익계산서 각 항목별 최근 3개 연간 데이터를 저장할 수 있는 리스트 설정\n",
    "# [FnGuide] 공시기업의 최근 3개 연간 및 4개 분기 손익계산서를 수집하는 함수\n",
    "def getBS(stock_code, rpt_type, freq) :\n",
    "    items_en = ['assets', 'curassets', 'curassets1', 'curassets2', 'curassets3',  'curassets4', 'curassets5',\n",
    "               'curassets6', 'curassets7', 'curassets8', 'curassets9', 'curassets10', 'curassets11',\n",
    "               'ltassets', 'ltassets1', 'ltassets2', 'ltassets3', 'ltassets4', 'ltassets5', 'ltassets6', 'ltassets7', \n",
    "                'ltassets8', 'ltassets9', 'ltassets10', 'ltassets11', 'ltassets12', 'ltassets13', 'finassets',\n",
    "                'liab', 'curliab', 'curliab1', 'curliab2', 'curliab3', 'curliab4', 'curliab5', \n",
    "                'curliab6', 'curliab7', 'curliab8', 'curliab9', 'curliab10', 'curliab11', 'curliab12', 'curliab13', \n",
    "                'ltliab', 'ltliab1', 'ltliab2', 'ltliab3', 'ltliab4', 'ltliab5', 'ltliab6', \n",
    "                'ltliab7', 'ltliab8', 'ltliab9', 'ltliab10', 'ltliab11', 'ltliab12', 'finliab',\n",
    "                'equity', 'equity1', 'equity2', 'equity3', 'equity4', 'equity5', 'equity6', 'equity7', 'equity8']\n",
    "\n",
    "# 3. 연결 재무상태표 URL 및 항목 설정\n",
    "    if rpt_type.upper() == 'CONSOLIDATED' : # 연결 연간 손익계산서(ReportGB=D)\n",
    "        url = \"https://comp.fnguide.com/SVO2/ASP/SVD_Finance.asp?pGB=1&gicode=A005930&cID=&MenuYn=Y&ReportGB=D&NewMenuID=103&stkGb=701\".format(stock_code)\n",
    "    else : # 별도 연간 손익계산서(ReportGB=B)\n",
    "        url = \"https://comp.fnguide.com/SVO2/ASP/SVD_Finance.asp?pGB=1&gicode=A005930&cID=&MenuYn=Y&ReportGB=D&NewMenuID=103&stkGb=701\".format(stock_code)\n",
    "        items_en = [item for item in items_en if item not in ['equity1', 'equity8']]\n",
    "        \n",
    "# 4. 데이터 요청 및 결과 확인\n",
    "    # Header 설정\n",
    "    headers = {\n",
    "        'User-Agent': 'Mozilla/5.0 (Windows NT 10.0; Win64; x64) AppleWebKit/537.36 (KHTML, like Gecko) Chrome/101.0.4951.54 Safari/537.36',\n",
    "    }\n",
    "    req = Request(url=url, headers=headers)\n",
    "    html = urlopen(req).read()\n",
    "    soup = BeautifulSoup(html, 'html.parser')\n",
    "    \n",
    "    if freq.upper() == 'A' : # 연간 재무상태표 영역 추출\n",
    "        is_a = soup.find(id = 'divDaechaY')\n",
    "        num_col = 3 # 최근 3개 연간 데이터\n",
    "    else : # 분기 재무상태표 영역 추출 freq.upper() == 'Q'\n",
    "        is_a = soup.find(id = 'divDaechaQ')\n",
    "        num_col = 4 # 최근 4개 분기 데이터\n",
    "    bs_a = is_a.find_all(['tr'])\n",
    "    # print(bs_a)\n",
    "    \n",
    "# 5. 접힌 항목을 모두 펼친 뒤에 하위 항목 추출\n",
    "    # 연간 손익계산서 항목 펼친 뒤 하위 항목 추출\n",
    "    items_kr = [bs_a[m].find(['th']).get_text().replace('\\n','').replace('\\xa0','').replace('계산에 참여한 계정 펼치기','')\n",
    "                for m in range(1, len(bs_a))]\n",
    "    # print(items_kr)\n",
    "    \n",
    "# 6. 최근 3개 연도 손익계산서 발행년월(period) 수집\n",
    "    # 최근 3개 연간 손익계산서 자료 수집\n",
    "    period = [bs_a[0].find_all('th')[n].get_text() for n in range(1, num_col+1)]\n",
    "    # print(period)\n",
    "    \n",
    "# 7. 맨 처음 설정했던 변수들에 각각 저장\n",
    "# 항목별 최근 3개 연간데이터 불러오기\n",
    "    for item, i in zip(items_en, range(1, len(bs_a))):\n",
    "    \n",
    "        temps = []\n",
    "        for j in range(0, num_col):\n",
    "            temp = [float(bs_a[i].find_all('td')[j]['title'].replace(',','').replace('\\xa0',''))\\\n",
    "                   if bs_a[i].find_all('td')[j]['title'].replace(',','').replace('\\xa0','') != ''\\\n",
    "                    else (0 if bs_a[i].find_all('td')[j]['title'].replace(',','').replace('\\xa0','') == '-0'\\\n",
    "                         else 0)]\n",
    "            temps.append(temp[0])\n",
    "        # item_en 내 각 항목을 global 변수로 지정하고 값 저장\n",
    "        globals()[item] = temps\n",
    "    # print(assets) # 총 자산\n",
    "    \n",
    " # 8. 연결 및 별도에 따라 지배/비지배주주순이익 변수 처리\n",
    "    # 지배/비지배 항목 처리\n",
    "    if rpt_type.upper() == 'CONSOLIDATED' : # 연결 연간 재무상태표는 아무 것도 하지 않음\n",
    "        pass\n",
    "    else : # 별도 연간 재무상타표는 연간에만 존재하는 항목을 Null 값으로 채움\n",
    "        globals()['equity1'], globals()['equity8'] = [np.NaN]*num_col, [np.NaN]*num_col\n",
    "    # print(equity1, equity2)\n",
    "    \n",
    "# 9. 재무상태표 테이블 컬럼과 앞에서 정의한 global 변수를 각각 매칭하여 DataFrame으로 변환\n",
    "    bs_domestic = pd.DataFrame({'stock_code':stock_code, 'period':period,\n",
    "                            'Assets_Total' : assets, \"Current_Assets_Total\" : curassets,\n",
    "                            'LT_Assets_Total' : Itassets, \"Other_Fin_Assets\" : finassets,\n",
    "                            'Liabilities_Total' : liab, \"Current_Liab_Total\" : curliab,\n",
    "                            'LT_Liab_Total' : ltliab, \"Other_Fin_Liab_Total\" : finliab,\n",
    "                            \"Equity_Total\" : equity, \"Controlling_Equity_Total\" : equity1,\n",
    "                            \"Non_Controlling_Equity_Total\" : equity8})\n",
    "    \n",
    "# 10. 재무상태표 테이블 컬럼과 앞에서 정의한 global 변수를 각각 매칭하여 Dataframe으로 변환\n",
    "    return bs_domestic"
   ]
  },
  {
   "cell_type": "code",
   "execution_count": 13,
   "id": "ad4bbedd",
   "metadata": {
    "ExecuteTime": {
     "end_time": "2022-05-18T16:04:53.806876Z",
     "start_time": "2022-05-18T16:04:52.480784Z"
    }
   },
   "outputs": [
    {
     "ename": "NameError",
     "evalue": "name 'ltliab' is not defined",
     "output_type": "error",
     "traceback": [
      "\u001b[1;31m---------------------------------------------------------------------------\u001b[0m",
      "\u001b[1;31mNameError\u001b[0m                                 Traceback (most recent call last)",
      "\u001b[1;32m<ipython-input-13-1057f97ac089>\u001b[0m in \u001b[0;36m<module>\u001b[1;34m\u001b[0m\n\u001b[1;32m----> 1\u001b[1;33m \u001b[0mgetBS\u001b[0m\u001b[1;33m(\u001b[0m\u001b[1;34m'005930'\u001b[0m\u001b[1;33m,\u001b[0m \u001b[1;34m'Consolidated'\u001b[0m\u001b[1;33m,\u001b[0m \u001b[1;34m'A'\u001b[0m\u001b[1;33m)\u001b[0m \u001b[1;31m# 삼성전자(005930)의 연결, 연간 (포괄) 재무상태표\u001b[0m\u001b[1;33m\u001b[0m\u001b[1;33m\u001b[0m\u001b[0m\n\u001b[0m",
      "\u001b[1;32m<ipython-input-12-7e73acb659f2>\u001b[0m in \u001b[0;36mgetBS\u001b[1;34m(stock_code, rpt_type, freq)\u001b[0m\n\u001b[0;32m     75\u001b[0m                             \u001b[1;34m'LT_Assets_Total'\u001b[0m \u001b[1;33m:\u001b[0m \u001b[0mItassets\u001b[0m\u001b[1;33m,\u001b[0m \u001b[1;34m\"Other_Fin_Assets\"\u001b[0m \u001b[1;33m:\u001b[0m \u001b[0mfinassets\u001b[0m\u001b[1;33m,\u001b[0m\u001b[1;33m\u001b[0m\u001b[1;33m\u001b[0m\u001b[0m\n\u001b[0;32m     76\u001b[0m                             \u001b[1;34m'Liabilities_Total'\u001b[0m \u001b[1;33m:\u001b[0m \u001b[0mliab\u001b[0m\u001b[1;33m,\u001b[0m \u001b[1;34m\"Current_Liab_Total\"\u001b[0m \u001b[1;33m:\u001b[0m \u001b[0mcurliab\u001b[0m\u001b[1;33m,\u001b[0m\u001b[1;33m\u001b[0m\u001b[1;33m\u001b[0m\u001b[0m\n\u001b[1;32m---> 77\u001b[1;33m                             \u001b[1;34m'LT_Liab_Total'\u001b[0m \u001b[1;33m:\u001b[0m \u001b[0mltliab\u001b[0m\u001b[1;33m,\u001b[0m \u001b[1;34m\"Other_Fin_Liab_Total\"\u001b[0m \u001b[1;33m:\u001b[0m \u001b[0mfinliab\u001b[0m\u001b[1;33m,\u001b[0m\u001b[1;33m\u001b[0m\u001b[1;33m\u001b[0m\u001b[0m\n\u001b[0m\u001b[0;32m     78\u001b[0m                             \u001b[1;34m\"Equity_Total\"\u001b[0m \u001b[1;33m:\u001b[0m \u001b[0mequity\u001b[0m\u001b[1;33m,\u001b[0m \u001b[1;34m\"Controlling_Equity_Total\"\u001b[0m \u001b[1;33m:\u001b[0m \u001b[0mequity1\u001b[0m\u001b[1;33m,\u001b[0m\u001b[1;33m\u001b[0m\u001b[1;33m\u001b[0m\u001b[0m\n\u001b[0;32m     79\u001b[0m                             \"Non_Controlling_Equity_Total\" : equity8})\n",
      "\u001b[1;31mNameError\u001b[0m: name 'ltliab' is not defined"
     ]
    }
   ],
   "source": [
    "getBS('005930', 'Consolidated', 'A') # 삼성전자(005930)의 연결, 연간 (포괄) 재무상태표"
   ]
  },
  {
   "cell_type": "code",
   "execution_count": null,
   "id": "d880555e",
   "metadata": {},
   "outputs": [],
   "source": []
  }
 ],
 "metadata": {
  "hide_input": false,
  "kernelspec": {
   "display_name": "Python 3",
   "language": "python",
   "name": "python3"
  },
  "language_info": {
   "codemirror_mode": {
    "name": "ipython",
    "version": 3
   },
   "file_extension": ".py",
   "mimetype": "text/x-python",
   "name": "python",
   "nbconvert_exporter": "python",
   "pygments_lexer": "ipython3",
   "version": "3.8.8"
  },
  "toc": {
   "base_numbering": 1,
   "nav_menu": {},
   "number_sections": true,
   "sideBar": true,
   "skip_h1_title": false,
   "title_cell": "Table of Contents",
   "title_sidebar": "Contents",
   "toc_cell": false,
   "toc_position": {},
   "toc_section_display": true,
   "toc_window_display": false
  },
  "varInspector": {
   "cols": {
    "lenName": 16,
    "lenType": 16,
    "lenVar": 40
   },
   "kernels_config": {
    "python": {
     "delete_cmd_postfix": "",
     "delete_cmd_prefix": "del ",
     "library": "var_list.py",
     "varRefreshCmd": "print(var_dic_list())"
    },
    "r": {
     "delete_cmd_postfix": ") ",
     "delete_cmd_prefix": "rm(",
     "library": "var_list.r",
     "varRefreshCmd": "cat(var_dic_list()) "
    }
   },
   "types_to_exclude": [
    "module",
    "function",
    "builtin_function_or_method",
    "instance",
    "_Feature"
   ],
   "window_display": false
  }
 },
 "nbformat": 4,
 "nbformat_minor": 5
}
