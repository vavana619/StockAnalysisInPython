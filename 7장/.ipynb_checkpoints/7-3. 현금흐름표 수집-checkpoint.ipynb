{
 "cells": [
  {
   "cell_type": "code",
   "execution_count": 1,
   "id": "7c151361",
   "metadata": {
    "ExecuteTime": {
     "end_time": "2022-05-18T16:14:01.373668Z",
     "start_time": "2022-05-18T16:14:00.632277Z"
    }
   },
   "outputs": [],
   "source": [
    "# 1. 필요한 라이브러리 불러오기 및 종목코드(stock_code)와 재무제표 종류(rpt_type) 설정\n",
    "import pandas as pd\n",
    "import numpy as np\n",
    "from bs4 import BeautifulSoup\n",
    "from urllib.request import urlopen, Request"
   ]
  },
  {
   "cell_type": "code",
   "execution_count": 11,
   "id": "3800ed80",
   "metadata": {
    "ExecuteTime": {
     "end_time": "2022-05-18T16:26:08.532598Z",
     "start_time": "2022-05-18T16:26:08.518758Z"
    }
   },
   "outputs": [],
   "source": [
    "# 2. 현금흐름표 각 항목별 최근 3개 연간 데이터를 저장할 수 있는 리스트 설정\n",
    "# [FnGuide] 공시기업의 최근 3개 연간 및 4개 분기 현금흐름표를 수집하는 함수\n",
    "def getCF(stock_code, rpt_type, freq) :\n",
    "    # 연간 현금흐름표 항목 (22개)\n",
    "    items_en = [\"cfo\", \"cfo1\", \"cfo2\", \"cfo3\", \"cfo4\", \"cfo5\", \"cfo6\", \"cfo7\",\n",
    "               \"cfi\", \"cfi1\", \"cfi2\", \"cfi3\", \"cff\", \"cff1\", \"cff2\", \"cff3\",\n",
    "               \"cff4\", \"cff5\", \"cff6\", \"cff7\", \"cff8\", \"cff9\"]\n",
    "\n",
    "# 3. 연결 현금흐름표 URL 및 항목 설정\n",
    "    if rpt_type.upper() == 'CONSOLIDATED' : # 연결 연간 현금흐름표(ReportGB=D)\n",
    "        url = \"https://comp.fnguide.com/SVO2/ASP/SVD_Finance.asp?pGB=1&gicode=A005930&cID=&MenuYn=Y&ReportGB=D&NewMenuID=103&stkGb=701\".format(stock_code)\n",
    "    else : # 별도 연간 현금흐름표(ReportGB=B)\n",
    "        url = \"https://comp.fnguide.com/SVO2/ASP/SVD_Finance.asp?pGB=1&gicode=A005930&cID=&MenuYn=Y&ReportGB=D&NewMenuID=103&stkGb=701\".format(stock_code)\n",
    "        \n",
    "# 4. 데이터 요청 및 결과 확인\n",
    "    # Header 설정\n",
    "    headers = {\n",
    "        'User-Agent': 'Mozilla/5.0 (Windows NT 10.0; Win64; x64) AppleWebKit/537.36 (KHTML, like Gecko) Chrome/101.0.4951.54 Safari/537.36',\n",
    "    }\n",
    "    req = Request(url=url, headers=headers)\n",
    "    html = urlopen(req).read()\n",
    "    soup = BeautifulSoup(html, 'html.parser')\n",
    "    \n",
    "    if freq.upper() == 'A' : # 연간 현금흐름표 영역 추출\n",
    "        cf_a = soup.find(id = 'divCashY')\n",
    "        num_col = 3 # 최근 3개 연간 데이터\n",
    "    else : # 분기 현금흐름표 영역 추출 freq.upper() == 'Q'\n",
    "        cf_a = soup.find(id = 'divCashQ')\n",
    "        num_col = 4 # 최근 4개 분기 데이터\n",
    "    cf_a = cf_a.find_all(['tr'])\n",
    "    # print(cf_a)\n",
    "    \n",
    "# 5. 접힌 항목을 모두 펼친 뒤에 하위 항목 추출\n",
    "    # 연간 손익계산서 항목 펼친 뒤 하위 항목 추출\n",
    "    items_kr = [cf_a[m].find(['th']).get_text().replace('\\n','').replace('\\xa0','').replace('계산에 참여한 계정 펼치기','')\n",
    "                for m in range(1, len(cf_a))]\n",
    "    # print(items_kr)\n",
    "    \n",
    "# 6. 최근 3개 연도 손익계산서 발행년월(period) 수집\n",
    "    # 최근 3개 연간 손익계산서 자료 수집\n",
    "    period = [cf_a[0].find_all('th')[n].get_text() for n in range(1, num_col+1)]\n",
    "    # print(period)\n",
    "    \n",
    "# 7. 맨 처음 설정했던 변수들에 각각 저장\n",
    "# 항목별 값 불러오기 (수집할 인덱스 값 미리 설정함)\n",
    "    idx = [1,2,3,4,39,70,75,76,84,85,99,113,121,122,134,145,153,154,155,156,157,158]\n",
    "    for item, i in zip(items_en, idx):\n",
    "    \n",
    "        temps = []\n",
    "        for j in range(0, num_col): # 첫 번째부터 세 번째 컬럼까지 수집\n",
    "            temp = [float(cf_a[i].find_all('td')[j]['title'].replace(',','').replace('\\xa0',''))\\\n",
    "                   if cf_a[i].find_all('td')[j]['title'].replace(',','').replace('\\xa0','') != ''\\\n",
    "                    else (0 if cf_a[i].find_all('td')[j]['title'].replace(',','').replace('\\xa0','') == '-0'\\\n",
    "                         else 0)]\n",
    "            temps.append(temp[0])\n",
    "        # item_en 내 각 항목을 global 변수로 지정하고 값 저장\n",
    "        globals()[item] = temps\n",
    "    # print(cfo)\n",
    "    \n",
    "# 8. 현금흐름표 테이블 컬럼과 앞에서 정의한 global 변수를 각각 매칭하여 DataFrame으로 변환\n",
    "    cf_domestic = pd.DataFrame({'stock_code':stock_code, 'period':period,\n",
    "                                \"CFO_Total\" : cfo, \"CFI_Total\" : cfi,\n",
    "                                \"CFF_Total\" : cff})\n",
    "    # 재무제표 종류 컬럼 추가\n",
    "    cf_domestic['rpt_type'] = rpt_type\n",
    "    return cf_domestic"
   ]
  },
  {
   "cell_type": "code",
   "execution_count": 12,
   "id": "cb172cb3",
   "metadata": {
    "ExecuteTime": {
     "end_time": "2022-05-18T16:26:10.699231Z",
     "start_time": "2022-05-18T16:26:09.978527Z"
    }
   },
   "outputs": [
    {
     "data": {
      "text/html": [
       "<div>\n",
       "<style scoped>\n",
       "    .dataframe tbody tr th:only-of-type {\n",
       "        vertical-align: middle;\n",
       "    }\n",
       "\n",
       "    .dataframe tbody tr th {\n",
       "        vertical-align: top;\n",
       "    }\n",
       "\n",
       "    .dataframe thead th {\n",
       "        text-align: right;\n",
       "    }\n",
       "</style>\n",
       "<table border=\"1\" class=\"dataframe\">\n",
       "  <thead>\n",
       "    <tr style=\"text-align: right;\">\n",
       "      <th></th>\n",
       "      <th>stock_code</th>\n",
       "      <th>period</th>\n",
       "      <th>CFO_Total</th>\n",
       "      <th>CFI_Total</th>\n",
       "      <th>CFF_Total</th>\n",
       "      <th>rpt_type</th>\n",
       "    </tr>\n",
       "  </thead>\n",
       "  <tbody>\n",
       "    <tr>\n",
       "      <th>0</th>\n",
       "      <td>005930</td>\n",
       "      <td>2018/12</td>\n",
       "      <td>670318.63</td>\n",
       "      <td>-522404.53</td>\n",
       "      <td>-150902.22</td>\n",
       "      <td>Consolidated</td>\n",
       "    </tr>\n",
       "    <tr>\n",
       "      <th>1</th>\n",
       "      <td>005930</td>\n",
       "      <td>2019/12</td>\n",
       "      <td>453829.15</td>\n",
       "      <td>-399481.71</td>\n",
       "      <td>-94845.10</td>\n",
       "      <td>Consolidated</td>\n",
       "    </tr>\n",
       "    <tr>\n",
       "      <th>2</th>\n",
       "      <td>005930</td>\n",
       "      <td>2020/12</td>\n",
       "      <td>652870.09</td>\n",
       "      <td>-536285.91</td>\n",
       "      <td>-83278.39</td>\n",
       "      <td>Consolidated</td>\n",
       "    </tr>\n",
       "  </tbody>\n",
       "</table>\n",
       "</div>"
      ],
      "text/plain": [
       "  stock_code   period  CFO_Total  CFI_Total  CFF_Total      rpt_type\n",
       "0     005930  2018/12  670318.63 -522404.53 -150902.22  Consolidated\n",
       "1     005930  2019/12  453829.15 -399481.71  -94845.10  Consolidated\n",
       "2     005930  2020/12  652870.09 -536285.91  -83278.39  Consolidated"
      ]
     },
     "execution_count": 12,
     "metadata": {},
     "output_type": "execute_result"
    }
   ],
   "source": [
    "getCF('005930', 'Consolidated', 'A') # 삼성전자(005930)의 연결, 연간 (포괄) 현금흐름표"
   ]
  },
  {
   "cell_type": "code",
   "execution_count": null,
   "id": "258659c2",
   "metadata": {},
   "outputs": [],
   "source": []
  }
 ],
 "metadata": {
  "hide_input": false,
  "kernelspec": {
   "display_name": "Python 3",
   "language": "python",
   "name": "python3"
  },
  "language_info": {
   "codemirror_mode": {
    "name": "ipython",
    "version": 3
   },
   "file_extension": ".py",
   "mimetype": "text/x-python",
   "name": "python",
   "nbconvert_exporter": "python",
   "pygments_lexer": "ipython3",
   "version": "3.8.8"
  },
  "toc": {
   "base_numbering": 1,
   "nav_menu": {},
   "number_sections": true,
   "sideBar": true,
   "skip_h1_title": false,
   "title_cell": "Table of Contents",
   "title_sidebar": "Contents",
   "toc_cell": false,
   "toc_position": {},
   "toc_section_display": true,
   "toc_window_display": false
  },
  "varInspector": {
   "cols": {
    "lenName": 16,
    "lenType": 16,
    "lenVar": 40
   },
   "kernels_config": {
    "python": {
     "delete_cmd_postfix": "",
     "delete_cmd_prefix": "del ",
     "library": "var_list.py",
     "varRefreshCmd": "print(var_dic_list())"
    },
    "r": {
     "delete_cmd_postfix": ") ",
     "delete_cmd_prefix": "rm(",
     "library": "var_list.r",
     "varRefreshCmd": "cat(var_dic_list()) "
    }
   },
   "types_to_exclude": [
    "module",
    "function",
    "builtin_function_or_method",
    "instance",
    "_Feature"
   ],
   "window_display": false
  }
 },
 "nbformat": 4,
 "nbformat_minor": 5
}
